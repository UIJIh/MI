{
 "cells": [
  {
   "cell_type": "code",
   "execution_count": null,
   "metadata": {},
   "outputs": [],
   "source": [
    "pip install PyMuPDF"
   ]
  },
  {
   "cell_type": "code",
   "execution_count": 3,
   "metadata": {},
   "outputs": [],
   "source": [
    "import fitz\n",
    "\n",
    "pdf_file = \"duden.pdf\"\n",
    "doc = fitz.open(pdf_file)"
   ]
  },
  {
   "cell_type": "markdown",
   "metadata": {},
   "source": [
    "# Observing how the spans look like."
   ]
  },
  {
   "cell_type": "code",
   "execution_count": null,
   "metadata": {},
   "outputs": [],
   "source": [
    "extracted_text = []\n",
    "\n",
    "for page in doc:\n",
    "    for text in page.get_text(\"dict\")[\"blocks\"]:\n",
    "        if \"lines\" in text:\n",
    "            for line in text[\"lines\"]:\n",
    "                for span in line[\"spans\"]: \n",
    "                    print(span)\n",
    "                    extracted_text.append(span)"
   ]
  },
  {
   "cell_type": "markdown",
   "metadata": {},
   "source": [
    "# Checking the frequency of the types (figurative, literal, proverb... and such)"
   ]
  },
  {
   "cell_type": "code",
   "execution_count": 3,
   "metadata": {},
   "outputs": [],
   "source": [
    "freq = {t : extracted_text.count(t) for t in set(extracted_text)}"
   ]
  },
  {
   "cell_type": "code",
   "execution_count": 4,
   "metadata": {},
   "outputs": [],
   "source": [
    "sorted_freq = dict(sorted(freq.items(), key=lambda item: item[1], reverse=True))"
   ]
  },
  {
   "cell_type": "code",
   "execution_count": 5,
   "metadata": {},
   "outputs": [],
   "source": [
    "for key in sorted_freq:\n",
    "    print(f\"{key} : {sorted_freq[key]}\")"
   ]
  },
  {
   "cell_type": "code",
   "execution_count": 6,
   "metadata": {},
   "outputs": [],
   "source": [
    "category = [\"Fig.\", \"Lit.\", \"Prov.\", \"Sl.\", \"Inf.\", \"Rur.\", \"Cliché\", \"Euph.\"]"
   ]
  },
  {
   "cell_type": "markdown",
   "metadata": {},
   "source": [
    "# Leaving out unnecessary spans."
   ]
  },
  {
   "cell_type": "code",
   "execution_count": null,
   "metadata": {},
   "outputs": [],
   "source": [
    "cnt = 0\n",
    "\n",
    "for page in doc:\n",
    "    for text in page.get_text(\"dict\")[\"blocks\"]:\n",
    "        if \"lines\" in text:\n",
    "            for line in text[\"lines\"]:\n",
    "                for span in line[\"spans\"]:\n",
    "                    if span[\"size\"] == 8:\n",
    "                        cnt += 1\n",
    "                        print(span)\n",
    "\n",
    "print(cnt)"
   ]
  },
  {
   "cell_type": "code",
   "execution_count": null,
   "metadata": {},
   "outputs": [],
   "source": [
    "cnt = 0\n",
    "\n",
    "for page in doc:\n",
    "    for text in page.get_text(\"dict\")[\"blocks\"]:\n",
    "        if \"lines\" in text:\n",
    "            for line in text[\"lines\"]:\n",
    "                for span in line[\"spans\"]:\n",
    "                    if span[\"size\"] >= 11:\n",
    "                        cnt += 1\n",
    "                        print(span)\n",
    "\n",
    "print(cnt)"
   ]
  },
  {
   "cell_type": "markdown",
   "metadata": {},
   "source": [
    "## You can start from here if you don't need to see the details and frequencies"
   ]
  },
  {
   "cell_type": "code",
   "execution_count": 1,
   "metadata": {},
   "outputs": [],
   "source": [
    "import fitz\n",
    "\n",
    "pdf_file = \"McGraw-Hills Dictionary of American Idioms_Main.pdf\"\n",
    "# pdf_file = \"McGraw-Hills Dictionary of American Idioms_Main_Fix.pdf\"\n",
    "doc = fitz.open(pdf_file)"
   ]
  },
  {
   "cell_type": "code",
   "execution_count": null,
   "metadata": {},
   "outputs": [],
   "source": [
    "refined_spans = []\n",
    "\n",
    "page_num = 1\n",
    "for page in doc:\n",
    "    if (page_num % 2): margin = 250.0 # odd number\n",
    "    else: margin = 245.0 # even number\n",
    "    left_col = []\n",
    "    right_col = []\n",
    "\n",
    "    for text in page.get_text(\"dict\")[\"blocks\"]:\n",
    "        if \"lines\" in text:\n",
    "            for line in text[\"lines\"]:\n",
    "                for span in line[\"spans\"]:\n",
    "\n",
    "                    if (span[\"size\"] == 8) or (span[\"size\"] >= 11): continue\n",
    "                    elif (span[\"size\"] == 8.5) and (span[\"font\"] == \"Formata-Regular\") and (span[\"text\"].strip().isdigit()): continue\n",
    "                    else:\n",
    "                        refined = {\n",
    "                            \"text\": span[\"text\"],\n",
    "                            \"size\": span[\"size\"],\n",
    "                            \"font\": span[\"font\"],\n",
    "                            \"origin\": span[\"origin\"],\n",
    "                        }\n",
    "\n",
    "                        if refined[\"origin\"][0] < margin:\n",
    "                            left_col.append(refined)\n",
    "                        else: right_col.append(refined)\n",
    "    page_num += 1\n",
    "    refined_spans.extend(left_col)\n",
    "    refined_spans.extend(right_col)\n",
    "\n",
    "print(len(refined_spans))"
   ]
  },
  {
   "cell_type": "markdown",
   "metadata": {},
   "source": [
    "# Refine"
   ]
  },
  {
   "cell_type": "code",
   "execution_count": null,
   "metadata": {},
   "outputs": [],
   "source": [
    "for span in refined_spans:\n",
    "    print(span)"
   ]
  },
  {
   "cell_type": "code",
   "execution_count": 11,
   "metadata": {},
   "outputs": [],
   "source": [
    "# for span in refined_spans:\n",
    "#     # if span[\"size\"] == 8.64999008178711 and \";\" in span[\"text\"]:\n",
    "#     if \"previous.\" in span[\"text\"]:\n",
    "#     # if \";\" in span[\"text\"] and span[\"font\"] == \"Formata-Medium\":\n",
    "#         print(span)"
   ]
  },
  {
   "cell_type": "code",
   "execution_count": 3,
   "metadata": {},
   "outputs": [],
   "source": [
    "def print_span(spans, idx=None):\n",
    "    texts = [s[\"text\"] for s in spans]\n",
    "    text = \"\".join(texts)\n",
    "\n",
    "    if idx: print(idx)\n",
    "\n",
    "    if text: print(text)\n",
    "    else: print(\"check for errors\")\n",
    "    return text"
   ]
  },
  {
   "cell_type": "code",
   "execution_count": 4,
   "metadata": {},
   "outputs": [],
   "source": [
    "import re\n",
    "category = [\"Fig.\", \"Lit.\", \"Prov.\", \"Sl.\", \"Inf.\", \"Rur.\", \"Cliché\", \"Euph.\"]\n",
    "\n",
    "def multi_meaning(idx):\n",
    "    pattern = re.compile(r'(?:10|[2-9])\\.')\n",
    "    if pattern.search(refined_spans[idx][\"text\"]): return True\n",
    "\n",
    "    return False"
   ]
  },
  {
   "cell_type": "code",
   "execution_count": 5,
   "metadata": {},
   "outputs": [],
   "source": [
    "def synonym_checker(idx):\n",
    "    if idx >= len(refined_spans) - 1: return False\n",
    "\n",
    "    if (refined_spans[idx][\"size\"] == 8.5) and (refined_spans[idx][\"font\"] == \"Minion-Regular\"):\n",
    "        if (\"Go to\" in refined_spans[idx][\"text\"]): return idx\n",
    "        elif (\"Go\" in refined_spans[idx][\"text\"] and \"to\" in refined_spans[idx+1][\"text\"]): return idx\n",
    "    \n",
    "    return False\n",
    "\n",
    "def synonym_process(idx):\n",
    "    8.14999008178711"
   ]
  },
  {
   "cell_type": "code",
   "execution_count": 11,
   "metadata": {},
   "outputs": [],
   "source": [
    "def sentence_start(idx):\n",
    "    if refined_spans[idx][\"font\"] == \"MathematicalPi-Six\" and \"\\x02\" in refined_spans[idx][\"text\"].strip(): return True\n",
    "    return False\n",
    "\n",
    "def sentence_extract(idx):\n",
    "    text = []\n",
    "\n",
    "    y = refined_spans[idx][\"origin\"][1]\n",
    "    while refined_spans[idx][\"font\"] == \"Minion-Italic\":\n",
    "        if (refined_spans[idx][\"origin\"][1] > y) or (refined_spans[idx][\"origin\"][1] < y - 100):\n",
    "            if \"-\" in text[-1][\"text\"]: text[-1][\"text\"] = text[-1][\"text\"].replace(\"-\", \"\")\n",
    "            else: text.append({\"text\": \" \"})\n",
    "            y = refined_spans[idx][\"origin\"][1]\n",
    "        text.append(refined_spans[idx])\n",
    "        idx += 1\n",
    "\n",
    "    # print_span(text, idx)\n",
    "    # print(idx)\n",
    "    return text, idx"
   ]
  },
  {
   "cell_type": "code",
   "execution_count": 12,
   "metadata": {},
   "outputs": [],
   "source": [
    "def idiom_start(idx):\n",
    "    if (refined_spans[idx][\"size\"] in [8.64999008178711]) and (refined_spans[idx][\"font\"] == \"Formata-Medium\"): return True\n",
    "    if (refined_spans[idx][\"size\"] == 8.5) and (refined_spans[idx][\"font\"] == \"Minion-Regular\") \\\n",
    "        and (refined_spans[idx][\"text\"].lower().strip() in [\"a\", \"an\", \"the\"]): return True\n",
    "\n",
    "    return False\n",
    "\n",
    "def idiom_check(idx):\n",
    "    if multi_meaning(idx): return False\n",
    "    \n",
    "    if (refined_spans[idx][\"size\"] in [8.64999008178711, 4.7350664138793945]) and (refined_spans[idx][\"font\"] == \"Formata-Medium\"): return True\n",
    "    if (refined_spans[idx][\"size\"] == 8.297584533691406) and (refined_spans[idx][\"font\"] == \"Formata-Condensed\"): return True\n",
    "    # if (refined_spans[idx][\"font\"] == \"Formata-LightCondensed\") and (\"someone\" in refined_spans[idx][\"text\"].lower() or \"something\" in refined_spans[idx][\"text\"].lower()): return True\n",
    "    if (refined_spans[idx][\"font\"] == \"Formata-LightCondensed\"): return True\n",
    "    if (refined_spans[idx][\"size\"] == 8.5) and (refined_spans[idx][\"font\"] == \"Minion-Regular\") \\\n",
    "        and (refined_spans[idx][\"text\"].lower().strip() in [\"a\", \"an\", \"the\"]): return True\n",
    "\n",
    "    return False\n",
    "\n",
    "def and_check(idx):\n",
    "    if (refined_spans[idx][\"size\"] == 7): return True\n",
    "\n",
    "    return False\n",
    "\n",
    "def idiom_extract(idx):\n",
    "    text = []\n",
    "\n",
    "    y = refined_spans[idx][\"origin\"][1]\n",
    "    while idiom_check(idx):\n",
    "        if (refined_spans[idx][\"origin\"][1] > y) or (refined_spans[idx][\"origin\"][1] < y - 100):\n",
    "            if \"-\" in text[-1][\"text\"]: text[-1][\"text\"] = text[-1][\"text\"].replace(\"-\", \"\")\n",
    "            else: text.append({\"text\": \" \"})\n",
    "            y = refined_spans[idx][\"origin\"][1]\n",
    "        text.append(refined_spans[idx])\n",
    "        idx += 1\n",
    "    \n",
    "    # print_span(text, idx)\n",
    "    # print(idx)\n",
    "    return text, idx"
   ]
  },
  {
   "cell_type": "code",
   "execution_count": 13,
   "metadata": {},
   "outputs": [],
   "source": [
    "def meaning_extract(idx):\n",
    "    variation = False\n",
    "    text = []\n",
    "    next = 0\n",
    "\n",
    "    # Check if there are any variations for this idiom (\"*Typically blah blah blah\")\n",
    "    node = idx\n",
    "    while not sentence_start(node):\n",
    "        node += 1\n",
    "    next = node\n",
    "\n",
    "    var = idx\n",
    "    while var < next:\n",
    "        if refined_spans[var][\"size\"] == 10.714475631713867: \n",
    "            variation = True\n",
    "            break\n",
    "        var += 1\n",
    "    \n",
    "    y = refined_spans[idx][\"origin\"][1]\n",
    "\n",
    "    if variation:\n",
    "        while idx < next:\n",
    "            if (refined_spans[idx][\"origin\"][1] > y) or (refined_spans[idx][\"origin\"][1] < y - 100):\n",
    "                if \"-\" in text[-1][\"text\"]: text[-1][\"text\"] = text[-1][\"text\"].replace(\"-\", \"\")\n",
    "                else: text.append({\"text\": \" \"})\n",
    "                y = refined_spans[idx][\"origin\"][1]\n",
    "\n",
    "            text.append(refined_spans[idx])\n",
    "            idx += 1\n",
    "    else:\n",
    "            # ((refined_spans[idx][\"size\"] == 8.5) and (refined_spans[idx][\"font\"] == \"Minion-Italic\") and (refined_spans[idx][\"text\"].strip() in category)) or \\\n",
    "        # while ((refined_spans[idx][\"size\"] == 8.5) and (refined_spans[idx][\"font\"] == \"Minion-Regular\")) or \\\n",
    "        #     ((refined_spans[idx][\"size\"] == 8.5) and (refined_spans[idx][\"font\"] == \"Minion-Italic\")) or \\\n",
    "        #     (refined_spans[idx][\"font\"] == \"Minion-RegularSC\") or \\\n",
    "        #     refined_spans[idx][\"size\"] == 8.14999008178711:\n",
    "        while (not sentence_start(idx)) and (not idiom_start(idx)):\n",
    "            if (refined_spans[idx][\"origin\"][1] > y) or (refined_spans[idx][\"origin\"][1] < y - 100):\n",
    "                if \"-\" in text[-1][\"text\"]: text[-1][\"text\"] = text[-1][\"text\"].replace(\"-\", \"\")\n",
    "                else: text.append({\"text\": \" \"})\n",
    "                y = refined_spans[idx][\"origin\"][1]\n",
    "            text.append(refined_spans[idx])\n",
    "            idx += 1\n",
    "    \n",
    "    # print_span(text, idx)\n",
    "    # print(idx)\n",
    "    return text, idx"
   ]
  },
  {
   "cell_type": "code",
   "execution_count": null,
   "metadata": {},
   "outputs": [],
   "source": [
    "idioms = []\n",
    "meanings = []\n",
    "sentences = []\n",
    "\n",
    "idx = 0\n",
    "while idx < len(refined_spans):\n",
    "    I = []\n",
    "    M = []\n",
    "    S = []\n",
    "    # multi = False\n",
    "\n",
    "    # First, collect the idiom part\n",
    "    if idiom_check(idx):\n",
    "        idiom, idx = idiom_extract(idx)\n",
    "        I.append(print_span(idiom).strip())\n",
    "        # multi = multi_meaning(idx-1)\n",
    "    \n",
    "    if and_check(idx):\n",
    "        idx += 1\n",
    "        idiom, idx = idiom_extract(idx)\n",
    "        I.append(print_span(idiom).strip())\n",
    "        # if not multi:\n",
    "        #     multi = multi_meaning(idx-1)\n",
    "\n",
    "    # Extract meanings and sentences\n",
    "    while True:\n",
    "        if multi_meaning(idx):\n",
    "            mean = refined_spans[idx][\"text\"]\n",
    "            idx += 1\n",
    "            if and_check(idx):\n",
    "                idx += 1\n",
    "                idiom, idx = idiom_extract(idx)\n",
    "                I.append(print_span(idiom).strip())\n",
    "\n",
    "            m, idx = meaning_extract(idx)\n",
    "            mean = mean + print_span(m)\n",
    "\n",
    "        else:\n",
    "            mean, idx = meaning_extract(idx)\n",
    "            mean = print_span(mean)\n",
    "            \n",
    "            if and_check(idx):\n",
    "                idx += 1\n",
    "                idiom, idx = idiom_extract(idx)\n",
    "                I.append(print_span(idiom).strip())\n",
    "                m, idx = meaning_extract(idx)\n",
    "                mean = mean + print_span(m)\n",
    "\n",
    "        M.append(mean.strip())\n",
    "        if idiom_start(idx): break\n",
    "\n",
    "        while True:\n",
    "            if sentence_start(idx):\n",
    "                idx += 1\n",
    "                sen, idx = sentence_extract(idx)\n",
    "                S.append(print_span(sen).strip())\n",
    "            else: break\n",
    "            \n",
    "        if idiom_start(idx): break\n",
    "\n",
    "    idioms.append(I)\n",
    "    meanings.append(M)\n",
    "    sentences.append(S)"
   ]
  },
  {
   "cell_type": "code",
   "execution_count": null,
   "metadata": {},
   "outputs": [],
   "source": [
    "for idiom in idioms:\n",
    "    print(idiom)"
   ]
  },
  {
   "cell_type": "code",
   "execution_count": null,
   "metadata": {},
   "outputs": [],
   "source": [
    "for meaning in meanings:\n",
    "    print(meaning)"
   ]
  },
  {
   "cell_type": "code",
   "execution_count": null,
   "metadata": {},
   "outputs": [],
   "source": [
    "for sen in sentences:\n",
    "    print(sen)"
   ]
  },
  {
   "cell_type": "code",
   "execution_count": null,
   "metadata": {},
   "outputs": [],
   "source": [
    "print(refined_spans[16])"
   ]
  },
  {
   "cell_type": "markdown",
   "metadata": {},
   "source": [
    "# Save the results"
   ]
  },
  {
   "cell_type": "code",
   "execution_count": null,
   "metadata": {},
   "outputs": [],
   "source": [
    "from datasets import Dataset\n",
    "\n",
    "Dataset.from_dict({\n",
    "    \"Idioms\": idioms,\n",
    "    \"Meanings\": meanings,\n",
    "    \"Sentences\": sentences\n",
    "}).to_csv(\"McGraw-Hills_complete_line_fix.csv\")"
   ]
  },
  {
   "cell_type": "markdown",
   "metadata": {},
   "source": [
    "# Test Codes (Practice)"
   ]
  },
  {
   "cell_type": "code",
   "execution_count": 88,
   "metadata": {},
   "outputs": [],
   "source": [
    "idioms = []\n",
    "meanings = []\n",
    "sentences = []\n",
    "\n",
    "def refine_function(start=0):\n",
    "    idx = start\n",
    "    if idx >= len(refined_spans): return\n",
    "\n",
    "    I = []\n",
    "    M = []\n",
    "    S = []\n",
    "    multi = False\n",
    "\n",
    "    # First, collect the idiom part\n",
    "    if idiom_check(idx):\n",
    "        idiom, idx = idiom_extract(idx)\n",
    "        I.append(idiom)\n",
    "        multi = multi_meaning(idx-1)\n",
    "    \n",
    "    if and_check(idx):\n",
    "        idx += 1\n",
    "        idiom, idx = idiom_extract(idx)\n",
    "        I.append(idiom)\n",
    "        if not multi:\n",
    "            multi = multi_meaning(idx-1)\n",
    "\n",
    "    # Check if there are any variations for this idiom (\"*Typically blah blah blah\")\n",
    "    while not idiom_check(idx):\n",
    "        mean, idx = meaning_extract(idx)\n",
    "        M.append(mean)\n",
    "        while sentence_start(idx):\n",
    "            sen, idx = sentence_extract(idx)\n",
    "            S.append(sen)\n",
    "    \n",
    "    idioms.append(I)\n",
    "    meanings.append(M)\n",
    "    sentences.append(S)\n",
    "    refine_function(idx)"
   ]
  },
  {
   "cell_type": "code",
   "execution_count": null,
   "metadata": {},
   "outputs": [],
   "source": [
    "import re\n",
    "pattern = re.compile(r'(?:10|[1-9])\\.')\n",
    "prac = \"abandon ship 1. \"\n",
    "if pattern.search(prac):\n",
    "    print(pattern.search(prac))"
   ]
  },
  {
   "cell_type": "code",
   "execution_count": null,
   "metadata": {},
   "outputs": [],
   "source": [
    "refined_spans = []\n",
    "\n",
    "for page in doc:\n",
    "    for text in page.get_text(\"dict\")[\"blocks\"]:\n",
    "        if \"lines\" in text:\n",
    "            for line in text[\"lines\"]:\n",
    "                for span in line[\"spans\"]:\n",
    "                    if (span[\"size\"] == 8) or (span[\"size\"] >= 11): continue\n",
    "                    elif (span[\"size\"] == 8.5) and (span[\"font\"] == \"Formata-Regular\") and (span[\"text\"].strip().isdigit()): continue\n",
    "                    else:\n",
    "                        refined = {\n",
    "                            \"size\": span[\"size\"],\n",
    "                            \"font\": span[\"font\"],\n",
    "                            \"text\": span[\"text\"],\n",
    "                        }\n",
    "                        refined_spans.append(refined)\n",
    "\n",
    "print(len(refined_spans))"
   ]
  },
  {
   "cell_type": "code",
   "execution_count": null,
   "metadata": {},
   "outputs": [],
   "source": [
    "page_text = []\n",
    "\n",
    "page = doc[9]\n",
    "\n",
    "for text in page.get_text(\"dict\")[\"blocks\"]:\n",
    "        if \"lines\" in text:\n",
    "            for line in text[\"lines\"]:\n",
    "                for span in line[\"spans\"]:\n",
    "                    if (span[\"size\"] == 8) or (span[\"size\"] >= 11): continue\n",
    "                    elif (span[\"size\"] == 8.5) and (span[\"font\"] == \"Formata-Regular\") and (span[\"text\"].strip().isdigit()): continue\n",
    "                    else:\n",
    "                        refined = {\n",
    "                            \"size\": span[\"size\"],\n",
    "                            \"font\": span[\"font\"],\n",
    "                            \"text\": span[\"text\"],\n",
    "                        }\n",
    "                        page_text.append(refined)\n",
    "\n",
    "print(len(page_text))"
   ]
  },
  {
   "cell_type": "code",
   "execution_count": null,
   "metadata": {},
   "outputs": [],
   "source": [
    "print(page_text)"
   ]
  },
  {
   "cell_type": "code",
   "execution_count": null,
   "metadata": {},
   "outputs": [],
   "source": [
    "for span in refined_spans:\n",
    "    if \"; to\" in span[\"text\"]:\n",
    "    # if span[\"font\"] == \"Minion-RegularSC\":\n",
    "        print(span)"
   ]
  },
  {
   "cell_type": "code",
   "execution_count": null,
   "metadata": {},
   "outputs": [],
   "source": []
  }
 ],
 "metadata": {
  "kernelspec": {
   "display_name": "Python 3",
   "language": "python",
   "name": "python3"
  },
  "language_info": {
   "codemirror_mode": {
    "name": "ipython",
    "version": 3
   },
   "file_extension": ".py",
   "mimetype": "text/x-python",
   "name": "python",
   "nbconvert_exporter": "python",
   "pygments_lexer": "ipython3",
   "version": "3.8.10"
  }
 },
 "nbformat": 4,
 "nbformat_minor": 2
}
