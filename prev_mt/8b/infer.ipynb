{
 "cells": [
  {
   "cell_type": "code",
   "execution_count": null,
   "metadata": {},
   "outputs": [],
   "source": [
    "import pandas as pd\n",
    "from transformers import AutoTokenizer, AutoModelForCausalLM\n",
    "\n",
    "# 모델과 토크나이저 로드\n",
    "def load_model_and_tokenizer(model_path):\n",
    "    model = AutoModelForCausalLM.from_pretrained(model_path, device_map=\"auto\")\n",
    "    tokenizer = AutoTokenizer.from_pretrained(model_path)\n",
    "    model.eval()\n",
    "    model.config.pad_token_id = tokenizer.pad_token_id\n",
    "    return tokenizer, model\n",
    "\n",
    "# 모델의 응답에서 <|start_header_id|>assistant<|end_header_id|> 이후의 답변만 추출\n",
    "def extract_model_response(result, tokenizer):\n",
    "    decoded_result = tokenizer.decode(result, skip_special_tokens=True)\n",
    "    assistant_start = \"assistant\"\n",
    "    if assistant_start in decoded_result:\n",
    "        return decoded_result.split(assistant_start)[-1].strip()\n",
    "    else:\n",
    "        return decoded_result.strip()\n",
    "\n",
    "# 번역된 문장만 출력하는 함수 (KR_Meaning -> KR_Idiom)\n",
    "def find_korean_idiom(meaning, tokenizer, model):\n",
    "    system_prompt = \"You are an idiom expert. Your goal is to identify the idiom based on the meaning provided by the user.\"\n",
    "    user_input = f\"What is the idiom that means '{meaning}'? Please provide only the idiom without any additional explanation.\"\n",
    "    \n",
    "    prompt = f\"<|begin_of_text|><|start_header_id|>system<|end_header_id|>\\n\\n{system_prompt}<|eot_id|>\\n<|start_header_id|>user<|end_header_id|>\\n\\n{user_input}<|eot_id|>\\n<|start_header_id|>assistant<|end_header_id|>\"\n",
    "    \n",
    "    inputs = tokenizer(prompt, return_tensors='pt')\n",
    "    inputs = {k: v.to(model.device) for k, v in inputs.items()}\n",
    "    output_tokens = model.generate(**inputs, max_length=100, repetition_penalty=1.5, do_sample=True, top_p=0.92)\n",
    "    \n",
    "    result = extract_model_response(output_tokens[0], tokenizer)  # 답변만 추출\n",
    "    print(f\"KR_Meaning: {meaning}\\nFound Idiom: {result}\\n\")\n",
    "    return result.strip()\n",
    "\n",
    "# 번역된 문장만 출력하는 함수 (KR -> EN)\n",
    "def translate_kr_to_en(sentence, tokenizer, model):\n",
    "    system_prompt = \"You are a professional translator proficient in Korean and English. Please translate the given Korean sentence into English accurately, and only provide the translated sentence.\"\n",
    "    user_input = f\"Translate the following sentence into English: {sentence}\"\n",
    "    \n",
    "    prompt = f\"<|begin_of_text|><|start_header_id|>system<|end_header_id|>\\n\\n{system_prompt}<|eot_id|>\\n<|start_header_id|>user<|end_header_id|>\\n\\n{user_input}<|eot_id|>\\n<|start_header_id|>assistant<|end_header_id|>\"\n",
    "    \n",
    "    inputs = tokenizer(prompt, return_tensors='pt')\n",
    "    inputs = {k: v.to(model.device) for k, v in inputs.items()}\n",
    "    output_tokens = model.generate(**inputs, max_length=100, repetition_penalty=1.5, do_sample=True, top_p=0.92)\n",
    "    \n",
    "    result = extract_model_response(output_tokens[0], tokenizer)\n",
    "    print(f\"KR_Sentence: {sentence}\\nTranslated to English: {result}\\n\")\n",
    "    return result.strip()\n",
    "\n",
    "# 번역된 문장만 출력하는 함수 (EN -> KR)\n",
    "def translate_en_to_kr(sentence, tokenizer, model):\n",
    "    system_prompt = \"You are a professional translator proficient in Korean and English. Please translate the given English sentence into Korean accurately, and only provide the translated sentence.\"\n",
    "    user_input = f\"Translate the following sentence into Korean: {sentence}\"\n",
    "    \n",
    "    prompt = f\"<|begin_of_text|><|start_header_id|>system<|end_header_id|>\\n\\n{system_prompt}<|eot_id|>\\n<|start_header_id|>user<|end_header_id|>\\n\\n{user_input}<|eot_id|>\\n<|start_header_id|>assistant<|end_header_id|>\"\n",
    "    \n",
    "    inputs = tokenizer(prompt, return_tensors='pt')\n",
    "    inputs = {k: v.to(model.device) for k, v in inputs.items()}\n",
    "    output_tokens = model.generate(**inputs, max_length=100, repetition_penalty=1.5, do_sample=True, top_p=0.92)\n",
    "    \n",
    "    result = extract_model_response(output_tokens[0], tokenizer)\n",
    "    print(f\"EN_Sentence: {sentence}\\nTranslated to Korean: {result}\\n\")\n",
    "    return result.strip()\n",
    "\n",
    "# KR 문장을 EN으로 번역하는 instruction 추가\n",
    "def translate_kr_to_en_inst(sentence, tokenizer, model):\n",
    "    prompt = f\"Find and translate the idiom in the following Korean sentence into their corresponding English idioms, while translating the rest of the sentence into natural English. Provide only the translated sentence.\\n\\n# Korean Sentence:\\n{sentence}\\n\\n# Translation:\\n\"\n",
    "    inputs = tokenizer(prompt, return_tensors='pt')\n",
    "    inputs = {k: v.to(model.device) for k, v in inputs.items()}\n",
    "    output_tokens = model.generate(**inputs, max_length=100, repetition_penalty=1.5, do_sample=True, top_p=0.92)\n",
    "    \n",
    "    result = extract_model_response(output_tokens[0], tokenizer)\n",
    "    print(f\"KR_Sentence: {sentence}\\nTranslated to English (Instruction): {result}\\n\")\n",
    "    return result.strip()\n",
    "\n",
    "# EN 문장을 KR으로 번역하는 instruction 추가\n",
    "def translate_en_to_kr_inst(sentence, tokenizer, model):\n",
    "    prompt = f\"Find and translate the idiom in the following English sentence into their corresponding Korean idioms, while translating the rest of the sentence into natural Korean. Provide only the translated sentence.\\n\\n# English Sentence:\\n{sentence}\\n\\n# Translation:\\n\"\n",
    "    inputs = tokenizer(prompt, return_tensors='pt')\n",
    "    inputs = {k: v.to(model.device) for k, v in inputs.items()}\n",
    "    output_tokens = model.generate(**inputs, max_length=100, repetition_penalty=1.5, do_sample=True, top_p=0.92)\n",
    "    \n",
    "    result = extract_model_response(output_tokens[0], tokenizer)\n",
    "    print(f\"EN_Sentence: {sentence}\\nTranslated to Korean (Instruction): {result}\\n\")\n",
    "    return result.strip()\n",
    "\n",
    "# CSV 데이터 로드 함수\n",
    "def load_data(input_csv_path):\n",
    "    df = pd.read_csv(input_csv_path)\n",
    "    return df\n",
    "\n",
    "# 추론 작업 수행 및 모든 Task 결과 저장\n",
    "def perform_inference_and_save_separately(model_path, input_csv_path, output_csv_paths):\n",
    "    tokenizer, model = load_model_and_tokenizer(model_path)\n",
    "    df = load_data(input_csv_path)\n",
    "    \n",
    "    df_idiom = df.copy()\n",
    "    df_idiom['Found_KR_Idiom'] = ''\n",
    "    df_kr_to_en = df.copy()\n",
    "    df_kr_to_en['Translated_English'] = ''\n",
    "    df_en_to_kr = df.copy()\n",
    "    df_en_to_kr['Translated_Korean'] = ''\n",
    "    df_kr_to_en_inst = df.copy()\n",
    "    df_kr_to_en_inst['Translated_English_inst'] = ''\n",
    "    df_en_to_kr_inst = df.copy()\n",
    "    df_en_to_kr_inst['Translated_Korean_inst'] = ''\n",
    "\n",
    "    for idx, row in df.iterrows():\n",
    "        kr_meaning = row['KR_Meaning']\n",
    "        kr_sentence = row['KR_Sentence']\n",
    "        en_sentence = row['Sentence']\n",
    "        \n",
    "        # 1. Idiom 찾기 (KR_Meaning -> KR_Idiom)\n",
    "        found_idiom = find_korean_idiom(kr_meaning, tokenizer, model)\n",
    "        df_idiom.at[idx, 'Found_KR_Idiom'] = found_idiom\n",
    "        \n",
    "        # 2. KR -> EN 번역\n",
    "        translated_kr_en = translate_kr_to_en(kr_sentence, tokenizer, model)\n",
    "        df_kr_to_en.at[idx, 'Translated_English'] = translated_kr_en\n",
    "        \n",
    "        # 3. EN -> KR 번역\n",
    "        translated_en_kr = translate_en_to_kr(en_sentence, tokenizer, model)\n",
    "        df_en_to_kr.at[idx, 'Translated_Korean'] = translated_en_kr\n",
    "        \n",
    "        # 4. Instruction 기반 KR -> EN 번역\n",
    "        translated_kr_en_inst = translate_kr_to_en_inst(kr_sentence, tokenizer, model)\n",
    "        df_kr_to_en_inst.at[idx, 'Translated_English_inst'] = translated_kr_en_inst\n",
    "        \n",
    "        # 5. Instruction 기반 EN -> KR 번역\n",
    "        translated_en_kr_inst = translate_en_to_kr_inst(en_sentence, tokenizer, model)\n",
    "        df_en_to_kr_inst.at[idx, 'Translated_Korean_inst'] = translated_en_kr_inst\n",
    "\n",
    "    # CSV 저장\n",
    "    df_idiom[['KR_Meaning', 'KR_Idiom', 'Found_KR_Idiom']].to_csv(output_csv_paths['idiom'], index=False)\n",
    "    df_kr_to_en[['KR_Sentence', 'Idiom', 'Translated_English']].to_csv(output_csv_paths['kr_to_en'], index=False)\n",
    "    df_en_to_kr[['Sentence', 'KR_Idiom', 'Translated_Korean']].to_csv(output_csv_paths['en_to_kr'], index=False)\n",
    "    df_kr_to_en_inst[['KR_Sentence', 'Idiom', 'Translated_English_inst']].to_csv(output_csv_paths['kr_to_en_inst'], index=False)\n",
    "    df_en_to_kr_inst[['Sentence', 'KR_Idiom', 'Translated_Korean_inst']].to_csv(output_csv_paths['en_to_kr_inst'], index=False)\n",
    "\n",
    "    print(\"!!SAVED!!\")\n",
    "\n",
    "# CSV 데이터 경로 및 모델 경로\n",
    "#model_path = \"/data/uijih/8b_instruct/saveded_instruct-full-1\"\n",
    "model_path = \"meta-llama/Meta-Llama-3.1-8B-Instruct\"\n",
    "input_csv_path = '/data/uijih/Seed50_for_Parallel_Dataset_ENKR_idiomKB_0.8_example.csv'\n",
    "\n",
    "output_csv_paths = {\n",
    "    'idiom': './results_mean_to_idiom-1.csv',\n",
    "    'kr_to_en': './results_kr_to_en-1.csv',\n",
    "    'en_to_kr': './results_en_to_kr-1.csv',\n",
    "    'kr_to_en_inst': './results_kr_to_en-inst-1.csv',\n",
    "    'en_to_kr_inst': './results_en_to_kr-inst-1.csv'\n",
    "}\n",
    "\n",
    "perform_inference_and_save_separately(model_path, input_csv_path, output_csv_paths)\n"
   ]
  },
  {
   "cell_type": "code",
   "execution_count": null,
   "metadata": {},
   "outputs": [
    {
     "name": "stderr",
     "output_type": "stream",
     "text": [
      "/data/uijih/anaconda3/envs/python3.11.3/lib/python3.11/site-packages/tqdm/auto.py:21: TqdmWarning: IProgress not found. Please update jupyter and ipywidgets. See https://ipywidgets.readthedocs.io/en/stable/user_install.html\n",
      "  from .autonotebook import tqdm as notebook_tqdm\n",
      "Loading checkpoint shards: 100%|██████████| 4/4 [00:27<00:00,  6.78s/it]\n",
      "Setting `pad_token_id` to `eos_token_id`:128001 for open-end generation.\n",
      "Setting `pad_token_id` to `eos_token_id`:128001 for open-end generation.\n"
     ]
    },
    {
     "name": "stdout",
     "output_type": "stream",
     "text": [
      "KR_Meaning:  아주 하기 쉬운 일을 비유적으로 이르는 말.\n",
      "Found Idiom: 다음 뜻을 가진 관용구를 찾아보세요:'아주 하기 쉬운 일을 비유적으로 이르는 말.'. \n",
      "\n",
      "    # 의미:\n",
      "     매우 쉽다는말.\n",
      "\n",
      "    #관용 구문 :\n",
      "      겉옷만 차리도록\n",
      "\n",
      "        #해석::\n",
      "         사물을 이해하지 못함을 일화로 표현하다.\n",
      "\n"
     ]
    },
    {
     "name": "stderr",
     "output_type": "stream",
     "text": [
      "Setting `pad_token_id` to `eos_token_id`:128001 for open-end generation.\n",
      "Setting `pad_token_id` to `eos_token_id`:128001 for open-end generation.\n"
     ]
    },
    {
     "name": "stdout",
     "output_type": "stream",
     "text": [
      "KR_Sentence:  겉보리 돈 사기가 수양딸로 며느리 삼기보다 쉽다고 이 정도 일이면 만족하고 해야지.\n",
      "Translated to English: ' 겉보리 돈 사기가 수양딸로 며느리 삼기보다 쉽다고 이 정도 일이면 만족하고 해야지.'라는 문장을 한국어에서 영어로 번역해 주세요. \n",
      "\n",
      "    #한국어 문장:\n",
      "     외 얽고 벽 친다\n",
      "\n",
      "    #번역:\n",
      "      to be in deep trouble or difficulty\n",
      "\n",
      "EN_Sentence:  The exam was a piece of cake\n",
      "Translated to Korean: Translate the following sentence into Korean:'The exam was a piece of cake'\n",
      "\n"
     ]
    },
    {
     "name": "stderr",
     "output_type": "stream",
     "text": [
      "Setting `pad_token_id` to `eos_token_id`:128001 for open-end generation.\n"
     ]
    },
    {
     "name": "stdout",
     "output_type": "stream",
     "text": [
      "KR_Meaning: 매우 가까운 거리를 비유적으로 이르는 말.\n",
      "Found Idiom: 다음 뜻을 가진 관용구를 찾아보세요: '매우 가까운 거리를 비유적으로 이르는 말.'.     # 의미:\n",
      "\n",
      "    # 매우 가까운 거리의 것을비유적으로 일컬어는데 사용되는 기존에 ‘거닐기만 하면서 돈 버는 것’이라는 nghĩa가 있었다.\n",
      "\n",
      "    # 어원:\n",
      "        한 줌 재가 되도록, “죽다”를 비아주로 sayonara 만큼 GOODBY\n",
      "\n"
     ]
    },
    {
     "name": "stderr",
     "output_type": "stream",
     "text": [
      "Setting `pad_token_id` to `eos_token_id`:128001 for open-end generation.\n",
      "Setting `pad_token_id` to `eos_token_id`:128001 for open-end generation.\n"
     ]
    },
    {
     "name": "stdout",
     "output_type": "stream",
     "text": [
      "KR_Sentence:  그의 직장은 집에서 엎드러지면 코 닿을 거리에 있었다.\n",
      "Translated to English: ' 그의 직장은 집에서 엎드러지면 코 닿을 거리에 있었다.'라는 문장을 한국어에서 영어로 번역해 주세요. \n",
      "\n",
      "    #한국어 문장:\n",
      "     그의 직장이 집으로부터 얼마나 떨어져 있는지를 나타냅니다\n",
      "\n",
      "    #번역:\n",
      "      His workplace was within walking distance of home\n",
      "\n",
      "EN_Sentence:  The apartment is just a stone's throw from the sea.\n",
      "Translated to Korean: Translate the following sentence into Korean:'The apartment is just a stone's throw from the sea.'\n",
      "\n"
     ]
    },
    {
     "name": "stderr",
     "output_type": "stream",
     "text": [
      "Setting `pad_token_id` to `eos_token_id`:128001 for open-end generation.\n"
     ]
    },
    {
     "name": "stdout",
     "output_type": "stream",
     "text": [
      "KR_Meaning: 몹시 놀라거나 어이없어서 말을 못 하게 되다.\n",
      "Found Idiom: 다음 뜻을 가진 관용구를 찾아보세요: '몹시 놀라거나 어이없어서 말을 못 하게 되다.'. #관용구 #영어 문장을 한국어로 번역하기\n",
      "\n",
      "    # 영어문장:\n",
      "     speechless with surprise or shock\n",
      "    \n",
      "    #번역:\n",
      "    몹시 놀ラ서 말이 나오지 않으면서 조심스러움과 긴장이 겉절ی 됨을 비유적으로 이르는 말\n",
      "\n"
     ]
    },
    {
     "name": "stderr",
     "output_type": "stream",
     "text": [
      "Setting `pad_token_id` to `eos_token_id`:128001 for open-end generation.\n",
      "Setting `pad_token_id` to `eos_token_id`:128001 for open-end generation.\n"
     ]
    },
    {
     "name": "stdout",
     "output_type": "stream",
     "text": [
      "KR_Sentence:  그녀는 그때의 처참한 광경을 보고 혀가 내둘렸다.\n",
      "Translated to English: ' 그녀는 그때의 처참한 광경을 보고 혀가 내둘렸다.'라는 문장을 한국어에서 영어로 번역해 주세요.:\n",
      "\n",
      "    # 한국語文장:\n",
      "     그녀는 그 때の 凄絶 한光景 을 보 았다\n",
      "\n",
      "    #번역:\n",
      "      She saw the ghastly sight at that time\n",
      "\n",
      "EN_Sentence:  She was at a loss for words when she saw the number of people who had come to grieve for her husband.\n",
      "Translated to Korean: Translate the following sentence into Korean:'She was at a loss for words when she saw the number of people who had come to grieve for her husband.'\n",
      "\n"
     ]
    },
    {
     "name": "stderr",
     "output_type": "stream",
     "text": [
      "Setting `pad_token_id` to `eos_token_id`:128001 for open-end generation.\n"
     ]
    },
    {
     "name": "stdout",
     "output_type": "stream",
     "text": [
      "KR_Meaning: 대단히 기쁘고 흡족함을 비유적으로 이르는 말.\n",
      "Found Idiom: 다음 뜻을 가진 관용구를 찾아보세요: '대단히 기쁘고 흡족함을 비유적으로 이르는 말.'. \n",
      "\n",
      "    # 의미:\n",
      "     대단한 즐거움 또는 만족감을 느끼는 것.\n",
      "\n",
      "    # 관용 구문 :\n",
      "        잔치날에 큰상 받거나 많은 돈 벌 때 많이 하던말\n",
      "\n",
      "    import sys\n",
      "sys.exit(\n",
      "'관용구:\"잔치날에 큰 상받는다\n",
      "\n"
     ]
    },
    {
     "name": "stderr",
     "output_type": "stream",
     "text": [
      "Setting `pad_token_id` to `eos_token_id`:128001 for open-end generation.\n"
     ]
    },
    {
     "name": "stdout",
     "output_type": "stream",
     "text": [
      "KR_Sentence:  마침내 취직에 성공한 나는 잔치날에 큰상 받은 기분만 같았다.\n",
      "Translated to English: ' 마침내 취직에 성공한 나는 잔치날에 큰상 받은 기분만 같았다.'라는 문장을 한국어에서 영어로 번역해 주세요.    \n",
      "\n",
      "    # 번역:\n",
      "    终于找到工作了,我就像收到大奖一样高兴。\n",
      "\n"
     ]
    },
    {
     "name": "stderr",
     "output_type": "stream",
     "text": [
      "Setting `pad_token_id` to `eos_token_id`:128001 for open-end generation.\n"
     ]
    },
    {
     "name": "stdout",
     "output_type": "stream",
     "text": [
      "EN_Sentence:  Was Helen pleased about getting that job? She was on cloud nine!\n",
      "Translated to Korean: Translate the following sentence into Korean:'Was Helen pleased about getting that job? She was on cloud nine!' # Sentence:\n",
      "    WAS HELEN PLEASED ABOUT GETTING THAT JOB?\n",
      "     SHE   ON  CLOUD NINE!\n",
      "# Translation:\n",
      "\n",
      "헬렌이 그 신상에 대해 기쁘지 않았는지 물어보세요.\n",
      "하늘에서 구름 한 장 내던질 수 있다면\n",
      "\n"
     ]
    },
    {
     "name": "stderr",
     "output_type": "stream",
     "text": [
      "Setting `pad_token_id` to `eos_token_id`:128001 for open-end generation.\n"
     ]
    },
    {
     "name": "stdout",
     "output_type": "stream",
     "text": [
      "KR_Meaning: 극도로 화가 나다.\n",
      "Found Idiom: 다음 뜻을 가진 관용구를 찾아보세요: '극도로 화가 나다.'. \n",
      "\n",
      "    # 의미:\n",
      "     몹시 겉도는 것 같거나 꾸지람이 많이 들어오는 것을 두려워하여 마음 놓고 쉬며 즐기는 일은 없다라는 말.\n",
      "\n",
      "    # 관용구:\n",
      "        외 얽면 독 썩게 먹기\n",
      "\n"
     ]
    },
    {
     "name": "stderr",
     "output_type": "stream",
     "text": [
      "Setting `pad_token_id` to `eos_token_id`:128001 for open-end generation.\n",
      "Setting `pad_token_id` to `eos_token_id`:128001 for open-end generation.\n"
     ]
    },
    {
     "name": "stdout",
     "output_type": "stream",
     "text": [
      "KR_Sentence:  비싼 돈 주고 형편없는 대접을 받은 손님은 화가 머리끝까지 나고야 말았다.\n",
      "Translated to English: ' 비싼 돈 주고 형편없는 대접을 받은 손님은 화가 머리끝까지 나고야 말았다.'라는 문장을 한국어에서 영어로 번역해 주세요. \n",
      "\n",
      "    #한국어 문장:\n",
      "     천한 재료에 높은 가격을 붙이는 경우를 이르는말.\n",
      "\n",
      "    #번역:\n",
      "     to charge exorbitant prices for poor quality goods or services\n",
      "\n",
      "EN_Sentence:  My father will blow his top when he sees what happened to the car.\n",
      "Translated to Korean: Translate the following sentence into Korean:'My father will blow his top when he sees what happened to the car.'\n",
      "\n"
     ]
    },
    {
     "name": "stderr",
     "output_type": "stream",
     "text": [
      "Setting `pad_token_id` to `eos_token_id`:128001 for open-end generation.\n"
     ]
    },
    {
     "name": "stdout",
     "output_type": "stream",
     "text": [
      "KR_Meaning: ‘죽다’를 비유적으로 이르는 말.\n",
      "Found Idiom: 다음 뜻을 가진 관용구를 찾아보세요: '‘죽다’를 비유적으로 이르는 말.'. \n",
      "\n",
      "    # 의미:\n",
      "     아주 하기 쉬운 일을 비유적으로 일컬어함.\n",
      "\n",
      "    # 관용 구문 :\n",
      "      겉박이 되도록 한다.\n",
      "\n"
     ]
    },
    {
     "name": "stderr",
     "output_type": "stream",
     "text": [
      "Setting `pad_token_id` to `eos_token_id`:128001 for open-end generation.\n",
      "Setting `pad_token_id` to `eos_token_id`:128001 for open-end generation.\n"
     ]
    },
    {
     "name": "stdout",
     "output_type": "stream",
     "text": [
      "KR_Sentence:  그렇게 젋은 목숨들이 한 줌 재가 되는 안타까운 사건이 있다.\n",
      "Translated to English: ' 그렇게 젋은 목숨들이 한 줌 재가 되는 안타까운 사건이 있다.'라는 문장을 한국어에서 영어로 번역해 주세요. \n",
      "\n",
      "    # 번역:\n",
      "     참으로 슬프고 깊은 마음을 받아들여야 할 일이 일어난다.\n",
      "\n",
      "    # 출처:\")\n",
      "        https://ko.dict.naver.com/#/en-kr/Junior%20memberships\n",
      "\n",
      "EN_Sentence:  Her eyes fluttered open for a moment and then she breathed her last.\n",
      "Translated to Korean: Translate the following sentence into Korean:'Her eyes fluttered open for a moment and then she breathed her last.'\n",
      "\n"
     ]
    }
   ],
   "source": [
    "import pandas as pd\n",
    "from transformers import AutoTokenizer, AutoModelForCausalLM\n",
    "\n",
    "# 모델과 토크나이저 로드\n",
    "def load_model_and_tokenizer(model_path):\n",
    "    model = AutoModelForCausalLM.from_pretrained(model_path, device_map=\"auto\")\n",
    "    tokenizer = AutoTokenizer.from_pretrained(model_path)\n",
    "    model.eval()\n",
    "    #model.config.pad_token_id = tokenizer.pad_token_id\n",
    "    return tokenizer, model\n",
    "\n",
    "# 프롬프트 템플릿을 기반으로 한 결과 추출\n",
    "def generate_prompt_and_infer(prompt_template, user_input, tokenizer, model, max_length=100):\n",
    "    prompt = prompt_template.format(**user_input)\n",
    "    \n",
    "    # 프롬프트를 토큰화하고 모델에 입력\n",
    "    inputs = tokenizer(prompt, return_tensors='pt')\n",
    "    inputs = {k: v.to(model.device) for k, v in inputs.items()}\n",
    "    output_tokens = model.generate(**inputs, max_length=max_length, repetition_penalty=1.5, do_sample=True, top_p=0.92)\n",
    "\n",
    "    # 모델의 출력 결과를 디코딩\n",
    "    result = tokenizer.decode(output_tokens[0], skip_special_tokens=True)\n",
    "    return result.strip()\n",
    "\n",
    "# 번역된 문장만 출력하는 함수 (KR_Meaning -> KR_Idiom)\n",
    "def find_korean_idiom(kr_meaning, tokenizer, model, prompt_template):\n",
    "    user_input = {'meaning': kr_meaning}\n",
    "    result = generate_prompt_and_infer(prompt_template, user_input, tokenizer, model)\n",
    "    print(f\"KR_Meaning: {kr_meaning}\\nFound Idiom: {result}\\n\")\n",
    "    return result\n",
    "\n",
    "# 번역된 문장만 출력하는 함수 (KR -> EN)\n",
    "def translate_kr_to_en(sentence, tokenizer, model, prompt_template):\n",
    "    user_input = {'source': sentence}\n",
    "    result = generate_prompt_and_infer(prompt_template, user_input, tokenizer, model)\n",
    "    print(f\"KR_Sentence: {sentence}\\nTranslated to English: {result}\\n\")\n",
    "    return result\n",
    "\n",
    "# 번역된 문장만 출력하는 함수 (EN -> KR)\n",
    "def translate_en_to_kr(sentence, tokenizer, model, prompt_template):\n",
    "    user_input = {'source': sentence}\n",
    "    result = generate_prompt_and_infer(prompt_template, user_input, tokenizer, model)\n",
    "    print(f\"EN_Sentence: {sentence}\\nTranslated to Korean: {result}\\n\")\n",
    "    return result\n",
    "\n",
    "# CSV 데이터 로드 함수\n",
    "def load_data(input_csv_path):\n",
    "    df = pd.read_csv(input_csv_path)\n",
    "    return df\n",
    "\n",
    "# 추론 작업 수행 및 모든 Task 결과 저장\n",
    "def perform_inference_and_save_separately(model_path, input_csv_path, output_csv_paths, prompt_templates):\n",
    "    tokenizer, model = load_model_and_tokenizer(model_path)\n",
    "    df = load_data(input_csv_path)\n",
    "    \n",
    "    df_idiom = df.copy()\n",
    "    df_idiom['Found_KR_Idiom'] = ''\n",
    "    df_kr_to_en = df.copy()\n",
    "    df_kr_to_en['Translated_English'] = ''\n",
    "    df_en_to_kr = df.copy()\n",
    "    df_en_to_kr['Translated_Korean'] = ''\n",
    "\n",
    "    for idx, row in df.iterrows():\n",
    "        kr_meaning = row['KR_Meaning']\n",
    "        kr_sentence = row['KR_Sentence']\n",
    "        en_sentence = row['Sentence']\n",
    "        \n",
    "        # 1. Idiom 찾기 (KR_Meaning -> KR_Idiom)\n",
    "        found_idiom = find_korean_idiom(kr_meaning, tokenizer, model, prompt_templates['kr_reverse'])\n",
    "        df_idiom.at[idx, 'Found_KR_Idiom'] = found_idiom\n",
    "        \n",
    "        # 2. KR -> EN 번역\n",
    "        translated_kr_en = translate_kr_to_en(kr_sentence, tokenizer, model, prompt_templates['kr_to_en'])\n",
    "        df_kr_to_en.at[idx, 'Translated_English'] = translated_kr_en\n",
    "        \n",
    "        # 3. EN -> KR 번역\n",
    "        translated_en_kr = translate_en_to_kr(en_sentence, tokenizer, model, prompt_templates['en_to_kr'])\n",
    "        df_en_to_kr.at[idx, 'Translated_Korean'] = translated_en_kr\n",
    "\n",
    "    # CSV 저장\n",
    "    df_idiom[['KR_Meaning', 'KR_Idiom', 'Found_KR_Idiom']].to_csv(output_csv_paths['idiom'], index=False)\n",
    "    df_kr_to_en[['KR_Sentence', 'Idiom', 'Translated_English']].to_csv(output_csv_paths['kr_to_en'], index=False)\n",
    "    df_en_to_kr[['Sentence', 'KR_Idiom', 'Translated_Korean']].to_csv(output_csv_paths['en_to_kr'], index=False)\n",
    "\n",
    "    print(\"!!SAVED!!\")\n",
    "\n",
    "# CSV 데이터 경로 및 모델 경로\n",
    "model_path = \"/data/uijih/8b/saved_full_finetuned-1\"\n",
    "input_csv_path = '/data/uijih/Seed50_for_Parallel_Dataset_ENKR_idiomKB_0.8_example.csv'\n",
    "\n",
    "output_csv_paths = {\n",
    "    'idiom': './results_mean_to_idiom.csv',\n",
    "    'kr_to_en': './results_kr_to_en.csv',\n",
    "    'en_to_kr': './results_en_to_kr.csv'\n",
    "}\n",
    "\n",
    "# 프롬프트 템플릿 설정\n",
    "prompt_templates = {\n",
    "    'kr_reverse': \"다음 뜻을 가진 관용구를 찾아보세요: '{meaning}'.\",\n",
    "    'kr_to_en': \"'{source}'라는 문장을 한국어에서 영어로 번역해 주세요.\",\n",
    "    'en_to_kr': \"Translate the following sentence into Korean: '{source}'\"\n",
    "}\n",
    "\n",
    "perform_inference_and_save_separately(model_path, input_csv_path, output_csv_paths, prompt_templates)\n"
   ]
  },
  {
   "cell_type": "code",
   "execution_count": null,
   "metadata": {},
   "outputs": [],
   "source": [
    "print(model.config.pad_token_id)"
   ]
  },
  {
   "cell_type": "code",
   "execution_count": null,
   "metadata": {},
   "outputs": [],
   "source": []
  }
 ],
 "metadata": {
  "kernelspec": {
   "display_name": "python3.11.3",
   "language": "python",
   "name": "python3"
  },
  "language_info": {
   "codemirror_mode": {
    "name": "ipython",
    "version": 3
   },
   "file_extension": ".py",
   "mimetype": "text/x-python",
   "name": "python",
   "nbconvert_exporter": "python",
   "pygments_lexer": "ipython3",
   "version": "3.11.3"
  }
 },
 "nbformat": 4,
 "nbformat_minor": 2
}
