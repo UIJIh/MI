{
 "cells": [
  {
   "cell_type": "code",
   "execution_count": 2,
   "metadata": {},
   "outputs": [
    {
     "name": "stdout",
     "output_type": "stream",
     "text": [
      "    Idiom_from_diff   Matched_Idiom  Similarity_Score\n",
      "0             가난이 죄          가난이 죄다          0.909091\n",
      "1          가는 날이 장날        오는 날이 장날          0.875000\n",
      "2           가방끈이 길다           가방끈길다          0.833333\n",
      "3           가방끈이 짧다           가방끈짧다          0.833333\n",
      "4         가슴에 못을 박다       가슴에 손을 얹다          0.777778\n",
      "..              ...             ...               ...\n",
      "243         혀를 내두르다          혀를 내밀다          0.769231\n",
      "244   호랑이도 제 말하면 온다  호랑이도 제 말 하면 온다          0.962963\n",
      "245     호랑이 새끼를 키우다     호랑이가 새끼 치겠다          0.727273\n",
      "246         호박씨를 까다           호박씨까다          0.833333\n",
      "247         홍역을 치르다           홍역치르다          0.833333\n",
      "\n",
      "[248 rows x 3 columns]\n"
     ]
    }
   ],
   "source": [
    "import pandas as pd\n",
    "from difflib import SequenceMatcher \n",
    "\n",
    "# Load datasets\n",
    "dataset1 = pd.read_csv('/data/uijih/new_dataset/diff.csv')\n",
    "dataset2 = pd.read_csv('/data/uijih/new_dataset/Korean_Idioms2.csv')\n",
    "\n",
    "# Similarity threshold\n",
    "SIMILARITY_THRESHOLD = 0.7\n",
    "matched_results = []\n",
    "\n",
    "# Iterate over idioms in dataset1\n",
    "for idiom1 in dataset1['Idiom']:\n",
    "    highest_similarity = 0\n",
    "    best_match = None\n",
    "    \n",
    "    # Preprocess the idiom\n",
    "    idiom1 = str(idiom1).strip()\n",
    "    \n",
    "    # Compare with each idiom in dataset2\n",
    "    for idiom2 in dataset2['Idiom']:\n",
    "        idiom2 = str(idiom2).strip()\n",
    "        \n",
    "        # Calculate similarity\n",
    "        similarity = SequenceMatcher(None, idiom1, idiom2).ratio()\n",
    "        \n",
    "        if similarity > highest_similarity:\n",
    "            highest_similarity = similarity\n",
    "            best_match = idiom2\n",
    "    \n",
    "    # Add result if similarity meets threshold\n",
    "    if highest_similarity >= SIMILARITY_THRESHOLD:\n",
    "        matched_results.append({\n",
    "            'Idiom_from_diff': idiom1,\n",
    "            'Matched_Idiom': best_match,\n",
    "            'Similarity_Score': highest_similarity\n",
    "        })\n",
    "    else:\n",
    "        pass\n",
    "        # matched_results.append({\n",
    "        #     'Idiom_from_diff': idiom1,\n",
    "        #     'Matched_Idiom': None,\n",
    "        #     'Similarity_Score': None\n",
    "        # })\n",
    "\n",
    "# Convert to DataFrame and save results\n",
    "matched_df = pd.DataFrame(matched_results)\n",
    "matched_df.to_csv('/data/uijih/new_dataset/matched_results.csv', index=False)\n",
    "\n",
    "print(matched_df)"
   ]
  },
  {
   "cell_type": "code",
   "execution_count": null,
   "metadata": {},
   "outputs": [],
   "source": []
  }
 ],
 "metadata": {
  "kernelspec": {
   "display_name": "python3.11.3",
   "language": "python",
   "name": "python3"
  },
  "language_info": {
   "codemirror_mode": {
    "name": "ipython",
    "version": 3
   },
   "file_extension": ".py",
   "mimetype": "text/x-python",
   "name": "python",
   "nbconvert_exporter": "python",
   "pygments_lexer": "ipython3",
   "version": "3.11.3"
  }
 },
 "nbformat": 4,
 "nbformat_minor": 2
}
