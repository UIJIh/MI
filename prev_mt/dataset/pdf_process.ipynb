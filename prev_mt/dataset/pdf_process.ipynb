{
 "cells": [
  {
   "cell_type": "code",
   "execution_count": 1,
   "metadata": {},
   "outputs": [],
   "source": [
    "import fitz\n",
    "\n",
    "pdf_file = \"McGraw-Hills Dictionary of American Idioms_Main.pdf\"\n",
    "# pdf_file = \"McGraw-Hills Dictionary of American Idioms_Main_Fix.pdf\"\n",
    "doc = fitz.open(pdf_file)"
   ]
  },
  {
   "cell_type": "markdown",
   "metadata": {},
   "source": [
    "# Observing how the spans look like."
   ]
  },
  {
   "cell_type": "code",
   "execution_count": null,
   "metadata": {},
   "outputs": [],
   "source": [
    "extracted_text = []\n",
    "\n",
    "for page in doc:\n",
    "    for text in page.get_text(\"dict\")[\"blocks\"]:\n",
    "        if \"lines\" in text:\n",
    "            for line in text[\"lines\"]:\n",
    "                for span in line[\"spans\"]:\n",
    "                    print(span)\n",
    "                    extracted_text.append(span)"
   ]
  },
  {
   "cell_type": "markdown",
   "metadata": {},
   "source": [
    "# Checking the frequency of the types (figurative, literal, proverb... and such)"
   ]
  },
  {
   "cell_type": "code",
   "execution_count": 3,
   "metadata": {},
   "outputs": [],
   "source": [
    "freq = {t : extracted_text.count(t) for t in set(extracted_text)}"
   ]
  },
  {
   "cell_type": "code",
   "execution_count": 4,
   "metadata": {},
   "outputs": [],
   "source": [
    "sorted_freq = dict(sorted(freq.items(), key=lambda item: item[1], reverse=True))"
   ]
  },
  {
   "cell_type": "code",
   "execution_count": 5,
   "metadata": {},
   "outputs": [],
   "source": [
    "for key in sorted_freq:\n",
    "    print(f\"{key} : {sorted_freq[key]}\")"
   ]
  },
  {
   "cell_type": "code",
   "execution_count": 6,
   "metadata": {},
   "outputs": [],
   "source": [
    "category = [\"Fig.\", \"Lit.\", \"Prov.\", \"Sl.\", \"Inf.\", \"Rur.\", \"Cliché\", \"Euph.\"]"
   ]
  },
  {
   "cell_type": "markdown",
   "metadata": {},
   "source": [
    "# Leaving out unnecessary spans."
   ]
  },
  {
   "cell_type": "code",
   "execution_count": null,
   "metadata": {},
   "outputs": [],
   "source": [
    "cnt = 0\n",
    "\n",
    "for page in doc:\n",
    "    for text in page.get_text(\"dict\")[\"blocks\"]:\n",
    "        if \"lines\" in text:\n",
    "            for line in text[\"lines\"]:\n",
    "                for span in line[\"spans\"]:\n",
    "                    if span[\"size\"] == 8:\n",
    "                        cnt += 1\n",
    "                        print(span)\n",
    "\n",
    "print(cnt)"
   ]
  },
  {
   "cell_type": "code",
   "execution_count": null,
   "metadata": {},
   "outputs": [],
   "source": [
    "cnt = 0\n",
    "\n",
    "for page in doc:\n",
    "    for text in page.get_text(\"dict\")[\"blocks\"]:\n",
    "        if \"lines\" in text:\n",
    "            for line in text[\"lines\"]:\n",
    "                for span in line[\"spans\"]:\n",
    "                    if span[\"size\"] >= 11:\n",
    "                        cnt += 1\n",
    "                        print(span)\n",
    "\n",
    "print(cnt)"
   ]
  },
  {
   "cell_type": "markdown",
   "metadata": {},
   "source": [
    "## You can start from here if you don't need to see the details and frequencies"
   ]
  },
  {
   "cell_type": "code",
   "execution_count": 1,
   "metadata": {},
   "outputs": [],
   "source": [
    "import fitz\n",
    "\n",
    "pdf_file = \"McGraw-Hills Dictionary of American Idioms_Main.pdf\"\n",
    "# pdf_file = \"McGraw-Hills Dictionary of American Idioms_Main_Fix.pdf\"\n",
    "doc = fitz.open(pdf_file)"
   ]
  },
  {
   "cell_type": "code",
   "execution_count": 2,
   "metadata": {},
   "outputs": [
    {
     "name": "stdout",
     "output_type": "stream",
     "text": [
      "258030\n"
     ]
    }
   ],
   "source": [
    "refined_spans = []\n",
    "\n",
    "page_num = 1\n",
    "for page in doc:\n",
    "    if (page_num % 2): margin = 250.0 # odd number\n",
    "    else: margin = 245.0 # even number\n",
    "    left_col = []\n",
    "    right_col = []\n",
    "\n",
    "    for text in page.get_text(\"dict\")[\"blocks\"]:\n",
    "        if \"lines\" in text:\n",
    "            for line in text[\"lines\"]:\n",
    "                for span in line[\"spans\"]:\n",
    "\n",
    "                    if (span[\"size\"] == 8) or (span[\"size\"] >= 11): continue\n",
    "                    elif (span[\"size\"] == 8.5) and (span[\"font\"] == \"Formata-Regular\") and (span[\"text\"].strip().isdigit()): continue\n",
    "                    else:\n",
    "                        refined = {\n",
    "                            \"text\": span[\"text\"],\n",
    "                            \"size\": span[\"size\"],\n",
    "                            \"font\": span[\"font\"],\n",
    "                            \"origin\": span[\"origin\"],\n",
    "                        }\n",
    "\n",
    "                        if refined[\"origin\"][0] < margin:\n",
    "                            left_col.append(refined)\n",
    "                        else: right_col.append(refined)\n",
    "    page_num += 1\n",
    "    refined_spans.extend(left_col)\n",
    "    refined_spans.extend(right_col)\n",
    "\n",
    "print(len(refined_spans))"
   ]
  },
  {
   "cell_type": "markdown",
   "metadata": {},
   "source": [
    "# Refine"
   ]
  },
  {
   "cell_type": "code",
   "execution_count": null,
   "metadata": {},
   "outputs": [],
   "source": [
    "for span in refined_spans:\n",
    "    print(span)"
   ]
  },
  {
   "cell_type": "code",
   "execution_count": 11,
   "metadata": {},
   "outputs": [],
   "source": [
    "# for span in refined_spans:\n",
    "#     # if span[\"size\"] == 8.64999008178711 and \";\" in span[\"text\"]:\n",
    "#     if \"previous.\" in span[\"text\"]:\n",
    "#     # if \";\" in span[\"text\"] and span[\"font\"] == \"Formata-Medium\":\n",
    "#         print(span)"
   ]
  },
  {
   "cell_type": "code",
   "execution_count": 4,
   "metadata": {},
   "outputs": [],
   "source": [
    "def print_span(spans, idx=None):\n",
    "    texts = [s[\"text\"] for s in spans]\n",
    "    text = \"\".join(texts)\n",
    "\n",
    "    if idx: print(idx)\n",
    "\n",
    "    if text: print(text)\n",
    "    else: print(\"check for errors\")\n",
    "    return text"
   ]
  },
  {
   "cell_type": "code",
   "execution_count": 5,
   "metadata": {},
   "outputs": [],
   "source": [
    "import re\n",
    "category = [\"Fig.\", \"Lit.\", \"Prov.\", \"Sl.\", \"Inf.\", \"Rur.\", \"Cliché\", \"Euph.\"]\n",
    "\n",
    "def multi_meaning(idx):\n",
    "    pattern = re.compile(r'(?:10|[2-9])\\.')\n",
    "    if pattern.search(refined_spans[idx][\"text\"]): return True\n",
    "\n",
    "    return False"
   ]
  },
  {
   "cell_type": "code",
   "execution_count": 6,
   "metadata": {},
   "outputs": [],
   "source": [
    "def synonym_checker(idx):\n",
    "    if idx >= len(refined_spans) - 1: return False\n",
    "\n",
    "    if (refined_spans[idx][\"size\"] == 8.5) and (refined_spans[idx][\"font\"] == \"Minion-Regular\"):\n",
    "        if (\"Go to\" in refined_spans[idx][\"text\"]): return idx\n",
    "        elif (\"Go\" in refined_spans[idx][\"text\"] and \"to\" in refined_spans[idx+1][\"text\"]): return idx\n",
    "    \n",
    "    return False\n",
    "\n",
    "def synonym_process(idx):\n",
    "    8.14999008178711"
   ]
  },
  {
   "cell_type": "code",
   "execution_count": 7,
   "metadata": {},
   "outputs": [],
   "source": [
    "def sentence_start(idx):\n",
    "    if refined_spans[idx][\"font\"] == \"MathematicalPi-Six\" and \"\\x02\" in refined_spans[idx][\"text\"].strip(): return True\n",
    "    return False\n",
    "\n",
    "def sentence_extract(idx):\n",
    "    text = []\n",
    "    while refined_spans[idx][\"font\"] == \"Minion-Italic\":\n",
    "        text.append(refined_spans[idx])\n",
    "        idx += 1\n",
    "\n",
    "    print_span(text, idx)\n",
    "    # print(idx)\n",
    "    return text, idx"
   ]
  },
  {
   "cell_type": "code",
   "execution_count": 35,
   "metadata": {},
   "outputs": [],
   "source": [
    "def idiom_start(idx):\n",
    "    if (refined_spans[idx][\"size\"] in [8.64999008178711]) and (refined_spans[idx][\"font\"] == \"Formata-Medium\"): return True\n",
    "    if (refined_spans[idx][\"size\"] == 8.5) and (refined_spans[idx][\"font\"] == \"Minion-Regular\") \\\n",
    "        and (refined_spans[idx][\"text\"].lower().strip() in [\"a\", \"an\", \"the\"]): return True\n",
    "\n",
    "    return False\n",
    "\n",
    "def idiom_check(idx):\n",
    "    if multi_meaning(idx): return False\n",
    "    \n",
    "    if (refined_spans[idx][\"size\"] in [8.64999008178711, 4.7350664138793945]) and (refined_spans[idx][\"font\"] == \"Formata-Medium\"): return True\n",
    "    if (refined_spans[idx][\"size\"] == 8.297584533691406) and (refined_spans[idx][\"font\"] == \"Formata-Condensed\"): return True\n",
    "    # if (refined_spans[idx][\"font\"] == \"Formata-LightCondensed\") and (\"someone\" in refined_spans[idx][\"text\"].lower() or \"something\" in refined_spans[idx][\"text\"].lower()): return True\n",
    "    if (refined_spans[idx][\"font\"] == \"Formata-LightCondensed\"): return True\n",
    "    if (refined_spans[idx][\"size\"] == 8.5) and (refined_spans[idx][\"font\"] == \"Minion-Regular\") \\\n",
    "        and (refined_spans[idx][\"text\"].lower().strip() in [\"a\", \"an\", \"the\"]): return True\n",
    "\n",
    "    return False\n",
    "\n",
    "def and_check(idx):\n",
    "    if (refined_spans[idx][\"size\"] == 7): return True\n",
    "\n",
    "    return False\n",
    "\n",
    "def idiom_extract(idx):\n",
    "    text = []\n",
    "    while idiom_check(idx):\n",
    "        text.append(refined_spans[idx])\n",
    "        idx += 1\n",
    "    \n",
    "    print_span(text, idx)\n",
    "    # print(idx)\n",
    "    return text, idx"
   ]
  },
  {
   "cell_type": "code",
   "execution_count": 42,
   "metadata": {},
   "outputs": [],
   "source": [
    "def meaning_extract(idx):\n",
    "    variation = False\n",
    "    text = []\n",
    "    next = 0\n",
    "\n",
    "    # Check if there are any variations for this idiom (\"*Typically blah blah blah\")\n",
    "    node = idx\n",
    "    while not sentence_start(node):\n",
    "        node += 1\n",
    "    next = node\n",
    "\n",
    "    var = idx\n",
    "    while var < next:\n",
    "        if refined_spans[var][\"size\"] == 10.714475631713867: \n",
    "            variation = True\n",
    "            break\n",
    "        var += 1\n",
    "    \n",
    "    if variation:\n",
    "        while idx < next:\n",
    "            text.append(refined_spans[idx])\n",
    "            idx += 1\n",
    "    else:\n",
    "            # ((refined_spans[idx][\"size\"] == 8.5) and (refined_spans[idx][\"font\"] == \"Minion-Italic\") and (refined_spans[idx][\"text\"].strip() in category)) or \\\n",
    "        # while ((refined_spans[idx][\"size\"] == 8.5) and (refined_spans[idx][\"font\"] == \"Minion-Regular\")) or \\\n",
    "        #     ((refined_spans[idx][\"size\"] == 8.5) and (refined_spans[idx][\"font\"] == \"Minion-Italic\")) or \\\n",
    "        #     (refined_spans[idx][\"font\"] == \"Minion-RegularSC\") or \\\n",
    "        #     refined_spans[idx][\"size\"] == 8.14999008178711:\n",
    "        while (not sentence_start(idx)) and (not idiom_start(idx)):\n",
    "            text.append(refined_spans[idx])\n",
    "            idx += 1\n",
    "    \n",
    "    print_span(text, idx)\n",
    "    # print(idx)\n",
    "    return text, idx"
   ]
  },
  {
   "cell_type": "code",
   "execution_count": null,
   "metadata": {},
   "outputs": [],
   "source": [
    "idioms = []\n",
    "meanings = []\n",
    "sentences = []\n",
    "\n",
    "idx = 0\n",
    "while idx < len(refined_spans):\n",
    "    I = []\n",
    "    M = []\n",
    "    S = []\n",
    "    # multi = False\n",
    "\n",
    "    # First, collect the idiom part\n",
    "    if idiom_check(idx):\n",
    "        idiom, idx = idiom_extract(idx)\n",
    "        I.append(print_span(idiom).strip())\n",
    "        # multi = multi_meaning(idx-1)\n",
    "    \n",
    "    if and_check(idx):\n",
    "        idx += 1\n",
    "        idiom, idx = idiom_extract(idx)\n",
    "        I.append(print_span(idiom).strip())\n",
    "        # if not multi:\n",
    "        #     multi = multi_meaning(idx-1)\n",
    "\n",
    "    # Extract meanings and sentences\n",
    "    while True:\n",
    "        if multi_meaning(idx):\n",
    "            mean = refined_spans[idx][\"text\"]\n",
    "            idx += 1\n",
    "            if and_check(idx):\n",
    "                idx += 1\n",
    "                idiom, idx = idiom_extract(idx)\n",
    "                I.append(print_span(idiom).strip())\n",
    "\n",
    "            m, idx = meaning_extract(idx)\n",
    "            mean = mean + print_span(m)\n",
    "\n",
    "        else:\n",
    "            mean, idx = meaning_extract(idx)\n",
    "            mean = print_span(mean)\n",
    "            \n",
    "            if and_check(idx):\n",
    "                idx += 1\n",
    "                idiom, idx = idiom_extract(idx)\n",
    "                I.append(print_span(idiom).strip())\n",
    "                m, idx = meaning_extract(idx)\n",
    "                mean = mean + print_span(m)\n",
    "\n",
    "        M.append(mean.strip())\n",
    "        if idiom_start(idx): break\n",
    "\n",
    "        while True:\n",
    "            if sentence_start(idx):\n",
    "                idx += 1\n",
    "                sen, idx = sentence_extract(idx)\n",
    "                S.append(print_span(sen).strip())\n",
    "            else: break\n",
    "            \n",
    "        if idiom_start(idx): break\n",
    "\n",
    "    idioms.append(I)\n",
    "    meanings.append(M)\n",
    "    sentences.append(S)"
   ]
  },
  {
   "cell_type": "code",
   "execution_count": null,
   "metadata": {},
   "outputs": [],
   "source": [
    "for idiom in idioms:\n",
    "    print(idiom)"
   ]
  },
  {
   "cell_type": "code",
   "execution_count": null,
   "metadata": {},
   "outputs": [],
   "source": [
    "for meaning in meanings:\n",
    "    print(meaning)"
   ]
  },
  {
   "cell_type": "code",
   "execution_count": null,
   "metadata": {},
   "outputs": [],
   "source": [
    "for sen in sentences:\n",
    "    print(sen)"
   ]
  },
  {
   "cell_type": "code",
   "execution_count": 39,
   "metadata": {},
   "outputs": [
    {
     "name": "stdout",
     "output_type": "stream",
     "text": [
      "{'text': ' Go to ', 'size': 8.5, 'font': 'Minion-Regular', 'origin': (218.39076232910156, 103.21337890625)}\n"
     ]
    }
   ],
   "source": [
    "print(refined_spans[16])"
   ]
  },
  {
   "cell_type": "markdown",
   "metadata": {},
   "source": [
    "# Save the results"
   ]
  },
  {
   "cell_type": "code",
   "execution_count": 47,
   "metadata": {},
   "outputs": [
    {
     "data": {
      "application/vnd.jupyter.widget-view+json": {
       "model_id": "63b5d76a031d4ff7bbd74373d691f246",
       "version_major": 2,
       "version_minor": 0
      },
      "text/plain": [
       "Creating CSV from Arrow format:   0%|          | 0/25 [00:00<?, ?ba/s]"
      ]
     },
     "metadata": {},
     "output_type": "display_data"
    },
    {
     "data": {
      "text/plain": [
       "4927299"
      ]
     },
     "execution_count": 47,
     "metadata": {},
     "output_type": "execute_result"
    }
   ],
   "source": [
    "from datasets import Dataset\n",
    "\n",
    "Dataset.from_dict({\n",
    "    \"Idioms\": idioms,\n",
    "    \"Meanings\": meanings,\n",
    "    \"Sentences\": sentences\n",
    "}).to_csv(\"McGraw-Hills_complete.csv\")"
   ]
  },
  {
   "cell_type": "markdown",
   "metadata": {},
   "source": [
    "# Test Codes (Practice)"
   ]
  },
  {
   "cell_type": "code",
   "execution_count": 88,
   "metadata": {},
   "outputs": [],
   "source": [
    "idioms = []\n",
    "meanings = []\n",
    "sentences = []\n",
    "\n",
    "def refine_function(start=0):\n",
    "    idx = start\n",
    "    if idx >= len(refined_spans): return\n",
    "\n",
    "    I = []\n",
    "    M = []\n",
    "    S = []\n",
    "    multi = False\n",
    "\n",
    "    # First, collect the idiom part\n",
    "    if idiom_check(idx):\n",
    "        idiom, idx = idiom_extract(idx)\n",
    "        I.append(idiom)\n",
    "        multi = multi_meaning(idx-1)\n",
    "    \n",
    "    if and_check(idx):\n",
    "        idx += 1\n",
    "        idiom, idx = idiom_extract(idx)\n",
    "        I.append(idiom)\n",
    "        if not multi:\n",
    "            multi = multi_meaning(idx-1)\n",
    "\n",
    "    # Check if there are any variations for this idiom (\"*Typically blah blah blah\")\n",
    "    while not idiom_check(idx):\n",
    "        mean, idx = meaning_extract(idx)\n",
    "        M.append(mean)\n",
    "        while sentence_start(idx):\n",
    "            sen, idx = sentence_extract(idx)\n",
    "            S.append(sen)\n",
    "    \n",
    "    idioms.append(I)\n",
    "    meanings.append(M)\n",
    "    sentences.append(S)\n",
    "    refine_function(idx)"
   ]
  },
  {
   "cell_type": "code",
   "execution_count": null,
   "metadata": {},
   "outputs": [],
   "source": [
    "import re\n",
    "pattern = re.compile(r'(?:10|[1-9])\\.')\n",
    "prac = \"abandon ship 1. \"\n",
    "if pattern.search(prac):\n",
    "    print(pattern.search(prac))"
   ]
  },
  {
   "cell_type": "code",
   "execution_count": null,
   "metadata": {},
   "outputs": [],
   "source": [
    "refined_spans = []\n",
    "\n",
    "for page in doc:\n",
    "    for text in page.get_text(\"dict\")[\"blocks\"]:\n",
    "        if \"lines\" in text:\n",
    "            for line in text[\"lines\"]:\n",
    "                for span in line[\"spans\"]:\n",
    "                    if (span[\"size\"] == 8) or (span[\"size\"] >= 11): continue\n",
    "                    elif (span[\"size\"] == 8.5) and (span[\"font\"] == \"Formata-Regular\") and (span[\"text\"].strip().isdigit()): continue\n",
    "                    else:\n",
    "                        refined = {\n",
    "                            \"size\": span[\"size\"],\n",
    "                            \"font\": span[\"font\"],\n",
    "                            \"text\": span[\"text\"],\n",
    "                        }\n",
    "                        refined_spans.append(refined)\n",
    "\n",
    "print(len(refined_spans))"
   ]
  },
  {
   "cell_type": "code",
   "execution_count": 83,
   "metadata": {},
   "outputs": [
    {
     "name": "stdout",
     "output_type": "stream",
     "text": [
      "309\n"
     ]
    }
   ],
   "source": [
    "page_text = []\n",
    "\n",
    "page = doc[9]\n",
    "\n",
    "for text in page.get_text(\"dict\")[\"blocks\"]:\n",
    "        if \"lines\" in text:\n",
    "            for line in text[\"lines\"]:\n",
    "                for span in line[\"spans\"]:\n",
    "                    if (span[\"size\"] == 8) or (span[\"size\"] >= 11): continue\n",
    "                    elif (span[\"size\"] == 8.5) and (span[\"font\"] == \"Formata-Regular\") and (span[\"text\"].strip().isdigit()): continue\n",
    "                    else:\n",
    "                        refined = {\n",
    "                            \"size\": span[\"size\"],\n",
    "                            \"font\": span[\"font\"],\n",
    "                            \"text\": span[\"text\"],\n",
    "                        }\n",
    "                        page_text.append(refined)\n",
    "\n",
    "print(len(page_text))"
   ]
  },
  {
   "cell_type": "code",
   "execution_count": 84,
   "metadata": {},
   "outputs": [
    {
     "name": "stdout",
     "output_type": "stream",
     "text": [
      "[{'size': 8.64999008178711, 'font': 'Formata-Medium', 'text': 'all dressed up and nowhere to go '}, {'size': 7.0, 'font': 'Minion-Regular', 'text': 'and '}, {'size': 8.64999008178711, 'font': 'Formata-Medium', 'text': 'all dressed'}, {'size': 8.64999008178711, 'font': 'Formata-Medium', 'text': 'up with nowhere to go'}, {'size': 8.5, 'font': 'Minion-Regular', 'text': ' completely ready for some-'}, {'size': 8.5, 'font': 'Minion-Regular', 'text': 'thing that has been postponed or has failed to material-'}, {'size': 8.5, 'font': 'Minion-Regular', 'text': 'ize. (May be literal or figurative.) '}, {'size': 8.5, 'font': 'MathematicalPi-Six', 'text': '\\x02'}, {'size': 8.5, 'font': 'Minion-Italic', 'text': ' Tom: I just heard that'}, {'size': 8.5, 'font': 'Minion-Italic', 'text': 'your company is closed today. Fred: Gee, I’m all dressed up'}, {'size': 8.5, 'font': 'Minion-Italic', 'text': 'and nowhere to go. '}, {'size': 8.5, 'font': 'MathematicalPi-Six', 'text': '\\x02'}, {'size': 8.5, 'font': 'Minion-Italic', 'text': ' The space shot was cancelled, so all'}, {'size': 8.5, 'font': 'Minion-Italic', 'text': 'the astronauts are all dressed up with nowhere to go.'}, {'size': 8.64999008178711, 'font': 'Formata-Medium', 'text': 'all ears'}, {'size': 8.5, 'font': 'Minion-Italic', 'text': ' Fig.'}, {'size': 8.5, 'font': 'Minion-Regular', 'text': ' listening eagerly and carefully. '}, {'size': 8.5, 'font': 'MathematicalPi-Six', 'text': '\\x02'}, {'size': 8.5, 'font': 'Minion-Italic', 'text': ' Well, hurry'}, {'size': 8.5, 'font': 'Minion-Italic', 'text': 'up and tell me. I’m all ears.'}, {'size': 8.64999008178711, 'font': 'Formata-Medium', 'text': 'all eyes and ears'}, {'size': 8.5, 'font': 'Minion-Italic', 'text': ' Fig.'}, {'size': 8.5, 'font': 'Minion-Regular', 'text': ' listening and watching eagerly and'}, {'size': 8.5, 'font': 'Minion-Regular', 'text': 'carefully. '}, {'size': 8.5, 'font': 'MathematicalPi-Six', 'text': '\\x02'}, {'size': 8.5, 'font': 'Minion-Italic', 'text': ' Be careful what you say. The children are all'}, {'size': 8.5, 'font': 'Minion-Italic', 'text': 'eyes and ears. '}, {'size': 8.5, 'font': 'MathematicalPi-Six', 'text': '\\x02'}, {'size': 8.5, 'font': 'Minion-Italic', 'text': ' Tell us quick. We are all eyes and ears!'}, {'size': 8.64999008178711, 'font': 'Formata-Medium', 'text': '(all) for '}, {'size': 8.297584533691406, 'font': 'Formata-Condensed', 'text': 'someone or something'}, {'size': 8.5, 'font': 'Minion-Italic', 'text': ' Fig.'}, {'size': 8.5, 'font': 'Minion-Regular', 'text': ' (completely) in favor of'}, {'size': 8.5, 'font': 'Minion-Regular', 'text': 'someone or something; supporting someone or some-'}, {'size': 8.5, 'font': 'Minion-Regular', 'text': 'thing. '}, {'size': 8.5, 'font': 'MathematicalPi-Six', 'text': '\\x02'}, {'size': 8.5, 'font': 'Minion-Italic', 'text': ' I’m all for your candidacy. '}, {'size': 8.5, 'font': 'MathematicalPi-Six', 'text': '\\x02'}, {'size': 8.5, 'font': 'Minion-Italic', 'text': ' I’m for the incum-'}, {'size': 8.5, 'font': 'Minion-Italic', 'text': 'bent in the upcoming election.'}, {'size': 8.64999008178711, 'font': 'Formata-Medium', 'text': '(all) for the best'}, {'size': 8.5, 'font': 'Minion-Regular', 'text': ' good in spite of the way it seems; bet-'}, {'size': 8.5, 'font': 'Minion-Regular', 'text': 'ter than you think or than it appears to be. (Often said'}, {'size': 8.5, 'font': 'Minion-Regular', 'text': 'when someone dies after a painful illness.) '}, {'size': 8.5, 'font': 'MathematicalPi-Six', 'text': '\\x02'}, {'size': 8.5, 'font': 'Minion-Italic', 'text': ' I’m very'}, {'size': 8.5, 'font': 'Minion-Italic', 'text': 'sorry to hear of the death of your aunt. Perhaps it’s for the'}, {'size': 8.5, 'font': 'Minion-Italic', 'text': 'best. '}, {'size': 8.5, 'font': 'MathematicalPi-Six', 'text': '\\x02'}, {'size': 8.5, 'font': 'Minion-Italic', 'text': ' I didn’t get into the college I wanted, but I couldn’t'}, {'size': 8.5, 'font': 'Minion-Italic', 'text': 'afford it anyway. It’s probably all for the best.'}, {'size': 8.64999008178711, 'font': 'Formata-Medium', 'text': 'all gone'}, {'size': 8.5, 'font': 'Minion-Regular', 'text': ' used up; finished; over with. '}, {'size': 8.5, 'font': 'MathematicalPi-Six', 'text': '\\x02'}, {'size': 8.5, 'font': 'Minion-Italic', 'text': ' Oh, the strawberry'}, {'size': 8.5, 'font': 'Minion-Italic', 'text': 'jelly is all gone. '}, {'size': 8.5, 'font': 'MathematicalPi-Six', 'text': '\\x02'}, {'size': 8.5, 'font': 'Minion-Italic', 'text': ' We used to have wonderful parties, but'}, {'size': 8.5, 'font': 'Minion-Italic', 'text': 'those days are all gone.'}, {'size': 8.64999008178711, 'font': 'Formata-Medium', 'text': 'All good things must (come to an) end.'}, {'size': 8.5, 'font': 'Minion-Italic', 'text': ' Prov.'}, {'size': 8.5, 'font': 'Minion-Regular', 'text': ' All'}, {'size': 8.5, 'font': 'Minion-Regular', 'text': 'experiences, even pleasant ones, eventually end. '}, {'size': 8.5, 'font': 'MathematicalPi-Six', 'text': '\\x02'}, {'size': 8.5, 'font': 'Minion-Italic', 'text': ' It’s time'}, {'size': 8.5, 'font': 'Minion-Italic', 'text': 'to leave the party, honey. All good things must end. '}, {'size': 8.5, 'font': 'MathematicalPi-Six', 'text': '\\x02'}, {'size': 8.5, 'font': 'Minion-Italic', 'text': ' We’ve'}, {'size': 8.5, 'font': 'Minion-Italic', 'text': 'had a lovely visit, but all good things must come to an end.'}, {'size': 8.64999008178711, 'font': 'Formata-Medium', 'text': 'all hell broke loose'}, {'size': 8.5, 'font': 'Minion-Regular', 'text': ' all sorts of wild or terrible things'}, {'size': 8.5, 'font': 'Minion-Regular', 'text': 'happened. '}, {'size': 8.5, 'font': 'MathematicalPi-Six', 'text': '\\x02'}, {'size': 8.5, 'font': 'Minion-Italic', 'text': ' When the boss left early for the weekend, all'}, {'size': 8.5, 'font': 'Minion-Italic', 'text': 'hell broke loose.'}, {'size': 8.64999008178711, 'font': 'Formata-Medium', 'text': '*(all) het up'}, {'size': 8.5, 'font': 'Minion-Italic', 'text': ' Rur.'}, {'size': 8.5, 'font': 'Minion-Regular', 'text': ' very angry or upset. (All “heated” up.'}, {'size': 8.5, 'font': 'Minion-Regular', 'text': '*Typically: '}, {'size': 8.64999008178711, 'font': 'Formata-Medium', 'text': 'get '}, {'size': 10.714475631713867, 'font': 'Minion-Black', 'text': '~'}, {'size': 8.64999008178711, 'font': 'Formata-Medium', 'text': '; be '}, {'size': 10.714475631713867, 'font': 'Minion-Black', 'text': '~'}, {'size': 8.5, 'font': 'Minion-Regular', 'text': '.) '}, {'size': 8.5, 'font': 'MathematicalPi-Six', 'text': '\\x02'}, {'size': 8.5, 'font': 'Minion-Italic', 'text': ' The boss got all het up when'}, {'size': 8.5, 'font': 'Minion-Italic', 'text': 'I said my project would be late. '}, {'size': 8.5, 'font': 'MathematicalPi-Six', 'text': '\\x02'}, {'size': 8.5, 'font': 'Minion-Italic', 'text': ' Jane gets real het up when'}, {'size': 8.5, 'font': 'Minion-Italic', 'text': 'folks tease her about her freckles.'}, {'size': 8.64999008178711, 'font': 'Formata-Medium', 'text': '*all hours (of the day and night)'}, {'size': 8.5, 'font': 'Minion-Italic', 'text': ' Fig.'}, {'size': 8.5, 'font': 'Minion-Regular', 'text': ' very late in the'}, {'size': 8.5, 'font': 'Minion-Regular', 'text': 'night or very early in the morning. (*Typically: '}, {'size': 8.64999008178711, 'font': 'Formata-Medium', 'text': 'until '}, {'size': 10.714475631713867, 'font': 'Minion-Black', 'text': '~'}, {'size': 8.64999008178711, 'font': 'Formata-Medium', 'text': ';'}, {'size': 8.64999008178711, 'font': 'Formata-Medium', 'text': 'till '}, {'size': 10.714475631713867, 'font': 'Minion-Black', 'text': '~'}, {'size': 8.64999008178711, 'font': 'Formata-Medium', 'text': '; at '}, {'size': 10.714475631713867, 'font': 'Minion-Black', 'text': '~'}, {'size': 8.5, 'font': 'Minion-Regular', 'text': '.) '}, {'size': 8.5, 'font': 'MathematicalPi-Six', 'text': '\\x02'}, {'size': 8.5, 'font': 'Minion-Italic', 'text': ' Why do you always stay out until all'}, {'size': 8.5, 'font': 'Minion-Italic', 'text': 'hours of the day and night? '}, {'size': 8.5, 'font': 'MathematicalPi-Six', 'text': '\\x02'}, {'size': 8.5, 'font': 'Minion-Italic', 'text': ' I like to stay out till all hours.'}, {'size': 8.64999008178711, 'font': 'Formata-Medium', 'text': 'all in'}, {'size': 8.5, 'font': 'Minion-Regular', 'text': ' completely tired. '}, {'size': 8.5, 'font': 'MathematicalPi-Six', 'text': '\\x02'}, {'size': 8.5, 'font': 'Minion-Italic', 'text': ' I’m all in. I need some rest. '}, {'size': 8.5, 'font': 'MathematicalPi-Six', 'text': '\\x02'}, {'size': 8.5, 'font': 'Minion-Italic', 'text': ' After'}, {'size': 8.5, 'font': 'Minion-Italic', 'text': 'their 10-mile hike the campers were all in and very hungry.'}, {'size': 8.64999008178711, 'font': 'Formata-Medium', 'text': 'all in a day’s work'}, {'size': 8.5, 'font': 'Minion-Regular', 'text': ' part of what is expected; typical or'}, {'size': 8.5, 'font': 'Minion-Regular', 'text': 'normal. '}, {'size': 8.5, 'font': 'MathematicalPi-Six', 'text': '\\x02'}, {'size': 8.5, 'font': 'Minion-Italic', 'text': ' I don’t particularly like to cook, but it’s all in a'}, {'size': 8.5, 'font': 'Minion-Italic', 'text': 'day’s work. '}, {'size': 8.5, 'font': 'MathematicalPi-Six', 'text': '\\x02'}, {'size': 8.5, 'font': 'Minion-Italic', 'text': ' Cleaning up after other people is all in a day’s'}, {'size': 8.5, 'font': 'Minion-Italic', 'text': 'work for a busboy.'}, {'size': 8.64999008178711, 'font': 'Formata-Medium', 'text': 'all in all'}, {'size': 8.5, 'font': 'Minion-Regular', 'text': ' considering everything that has happened; in'}, {'size': 8.5, 'font': 'Minion-Regular', 'text': 'summary and in spite of any unpleasantness. '}, {'size': 8.5, 'font': 'MathematicalPi-Six', 'text': '\\x02'}, {'size': 8.5, 'font': 'Minion-Italic', 'text': ' All in all,'}, {'size': 8.5, 'font': 'Minion-Italic', 'text': 'it was a very good party. '}, {'size': 8.5, 'font': 'MathematicalPi-Six', 'text': '\\x02'}, {'size': 8.5, 'font': 'Minion-Italic', 'text': ' All in all, I’m glad that I visited'}, {'size': 8.5, 'font': 'Minion-Italic', 'text': 'New York City.'}, {'size': 8.64999008178711, 'font': 'Formata-Medium', 'text': 'all in good time'}, {'size': 8.5, 'font': 'Minion-Regular', 'text': ' at some future time; in the near future;'}, {'size': 8.14999008178711, 'font': 'Formata-Regular', 'text': 'in good time; '}, {'size': 8.5, 'font': 'Minion-Regular', 'text': 'soon. (This phrase is used to encourage'}, {'size': 8.5, 'font': 'Minion-Regular', 'text': 'people to be patient and wait quietly.) '}, {'size': 8.5, 'font': 'MathematicalPi-Six', 'text': '\\x02'}, {'size': 8.5, 'font': 'Minion-Italic', 'text': ' When will the'}, {'size': 8.5, 'font': 'Minion-Italic', 'text': 'baby be born? All in good time. '}, {'size': 8.5, 'font': 'MathematicalPi-Six', 'text': '\\x02'}, {'size': 8.5, 'font': 'Minion-Italic', 'text': ' Mary: I’m starved! When'}, {'size': 8.5, 'font': 'Minion-Italic', 'text': 'will Bill get here with the pizza? Tom: All in good time,'}, {'size': 8.5, 'font': 'Minion-Italic', 'text': 'Mary, all in good time.'}, {'size': 8.64999008178711, 'font': 'Formata-Medium', 'text': '(all) in one breath'}, {'size': 8.5, 'font': 'Minion-Italic', 'text': ' Fig.'}, {'size': 8.5, 'font': 'Minion-Regular', 'text': ' spoken very rapidly, usually while'}, {'size': 8.5, 'font': 'Minion-Regular', 'text': 'one is very excited. '}, {'size': 8.5, 'font': 'MathematicalPi-Six', 'text': '\\x02'}, {'size': 8.5, 'font': 'Minion-Italic', 'text': ' Ann said all in one breath, “Hurry,'}, {'size': 8.5, 'font': 'Minion-Italic', 'text': 'quick! The parade is coming!” '}, {'size': 8.5, 'font': 'MathematicalPi-Six', 'text': '\\x02'}, {'size': 8.5, 'font': 'Minion-Italic', 'text': ' Jane was in a play, and'}, {'size': 8.5, 'font': 'Minion-Italic', 'text': 'she was so excited that she said her whole speech in one'}, {'size': 8.5, 'font': 'Minion-Italic', 'text': 'breath.'}, {'size': 8.64999008178711, 'font': 'Formata-Medium', 'text': 'all in one piece'}, {'size': 8.5, 'font': 'Minion-Italic', 'text': ' Fig.'}, {'size': 8.5, 'font': 'Minion-Regular', 'text': ' safely; without damage. '}, {'size': 8.5, 'font': 'MathematicalPi-Six', 'text': '\\x02'}, {'size': 8.5, 'font': 'Minion-Italic', 'text': ' Her son'}, {'size': 8.5, 'font': 'Minion-Italic', 'text': 'came home from school all in one piece, even though he had'}, {'size': 8.5, 'font': 'Minion-Italic', 'text': 'been in a fight. '}, {'size': 8.5, 'font': 'MathematicalPi-Six', 'text': '\\x02'}, {'size': 8.5, 'font': 'Minion-Italic', 'text': ' The package was handled carelessly, but'}, {'size': 8.5, 'font': 'Minion-Italic', 'text': 'the vase inside arrived all in one piece.'}, {'size': 8.64999008178711, 'font': 'Formata-Medium', 'text': '(all) in the family'}, {'size': 8.5, 'font': 'Minion-Regular', 'text': ' restricted to one’s own family, as with'}, {'size': 8.5, 'font': 'Minion-Regular', 'text': 'private or embarrassing information. '}, {'size': 8.5, 'font': 'MathematicalPi-Six', 'text': '\\x02'}, {'size': 8.5, 'font': 'Minion-Italic', 'text': ' Don’t tell anyone'}, {'size': 8.5, 'font': 'Minion-Italic', 'text': 'else. Please keep it all in the family. '}, {'size': 8.5, 'font': 'MathematicalPi-Six', 'text': '\\x02'}, {'size': 8.5, 'font': 'Minion-Italic', 'text': ' He only told his'}, {'size': 8.5, 'font': 'Minion-Italic', 'text': 'brother because he wanted it to remain in the family.'}, {'size': 8.64999008178711, 'font': 'Formata-Medium', 'text': '(all) joking aside '}, {'size': 7.0, 'font': 'Minion-Regular', 'text': 'and '}, {'size': 8.64999008178711, 'font': 'Formata-Medium', 'text': '(all) kidding aside'}, {'size': 8.5, 'font': 'Minion-Regular', 'text': ' being seri-'}, {'size': 8.5, 'font': 'Minion-Regular', 'text': 'ous for a moment; in all seriousness. '}, {'size': 8.5, 'font': 'MathematicalPi-Six', 'text': '\\x02'}, {'size': 8.5, 'font': 'Minion-Italic', 'text': ' I know I laugh at'}, {'size': 8.5, 'font': 'Minion-Italic', 'text': 'him but, joking aside, he’s a very clever scientist. '}, {'size': 8.5, 'font': 'MathematicalPi-Six', 'text': '\\x02'}, {'size': 8.5, 'font': 'Minion-Italic', 'text': ' I know'}, {'size': 8.5, 'font': 'Minion-Italic', 'text': 'I threatened to leave and go round the world, but, joking'}, {'size': 8.5, 'font': 'Minion-Italic', 'text': 'aside, I do need a vacation.'}, {'size': 8.64999008178711, 'font': 'Formata-Medium', 'text': '(all) kidding aside'}, {'size': 8.5, 'font': 'Minion-Regular', 'text': ' Go to previous.'}, {'size': 8.64999008178711, 'font': 'Formata-Medium', 'text': '*all kinds of '}, {'size': 8.297584533691406, 'font': 'Formata-Condensed', 'text': 'someone or something'}, {'size': 8.5, 'font': 'Minion-Italic', 'text': ' Fig.'}, {'size': 8.5, 'font': 'Minion-Regular', 'text': ' a great number of'}, {'size': 8.5, 'font': 'Minion-Regular', 'text': 'people or things; a great amount of something, especially'}, {'size': 8.5, 'font': 'Minion-Regular', 'text': 'money. (*Typically: '}, {'size': 8.64999008178711, 'font': 'Formata-Medium', 'text': 'be '}, {'size': 10.714475631713867, 'font': 'Minion-Black', 'text': '~'}, {'size': 8.64999008178711, 'font': 'Formata-Medium', 'text': '; have '}, {'size': 10.714475631713867, 'font': 'Minion-Black', 'text': '~'}, {'size': 8.5, 'font': 'Minion-Regular', 'text': '.) '}, {'size': 8.5, 'font': 'MathematicalPi-Six', 'text': '\\x02'}, {'size': 8.5, 'font': 'Minion-Italic', 'text': ' There were all'}, {'size': 8.5, 'font': 'Minion-Italic', 'text': 'kinds of people there, probably thousands. '}, {'size': 8.5, 'font': 'MathematicalPi-Six', 'text': '\\x02'}, {'size': 8.5, 'font': 'Minion-Italic', 'text': ' The Smith'}, {'size': 8.5, 'font': 'Minion-Italic', 'text': 'family has all kinds of money.'}, {'size': 8.64999008178711, 'font': 'Formata-Medium', 'text': 'all manner of '}, {'size': 8.297584533691406, 'font': 'Formata-Condensed', 'text': 'someone or something'}, {'size': 8.5, 'font': 'Minion-Italic', 'text': ' Fig.'}, {'size': 8.5, 'font': 'Minion-Regular', 'text': ' all types of peo-'}, {'size': 8.5, 'font': 'Minion-Regular', 'text': 'ple or things. '}, {'size': 8.5, 'font': 'MathematicalPi-Six', 'text': '\\x02'}, {'size': 8.5, 'font': 'Minion-Italic', 'text': ' We saw all manner of people there. They'}, {'size': 8.5, 'font': 'Minion-Italic', 'text': 'came from every country in the world. '}, {'size': 8.5, 'font': 'MathematicalPi-Six', 'text': '\\x02'}, {'size': 8.5, 'font': 'Minion-Italic', 'text': ' They were selling'}, {'size': 8.5, 'font': 'Minion-Italic', 'text': 'all manner of things in the country store.'}, {'size': 8.64999008178711, 'font': 'Formata-Medium', 'text': 'all my eye (and Betty Martin)'}, {'size': 8.5, 'font': 'Minion-Regular', 'text': ' nonsense; not true. '}, {'size': 8.5, 'font': 'MathematicalPi-Six', 'text': '\\x02'}, {'size': 8.5, 'font': 'Minion-Italic', 'text': 'Jane is always talking about her wonderful childhood, but'}, {'size': 8.5, 'font': 'Minion-Italic', 'text': 'it’s all my eye. '}, {'size': 8.5, 'font': 'MathematicalPi-Six', 'text': '\\x02'}, {'size': 8.5, 'font': 'Minion-Italic', 'text': ' He pretends to have great plans, but they’re'}, {'size': 8.5, 'font': 'Minion-Italic', 'text': 'all my eye and Betty Martin.'}, {'size': 8.64999008178711, 'font': 'Formata-Medium', 'text': 'all night long'}, {'size': 8.5, 'font': 'Minion-Regular', 'text': ' throughout the whole night. '}, {'size': 8.5, 'font': 'MathematicalPi-Six', 'text': '\\x02'}, {'size': 8.5, 'font': 'Minion-Italic', 'text': ' I couldn’t'}, {'size': 8.5, 'font': 'Minion-Italic', 'text': 'sleep all night long. '}, {'size': 8.5, 'font': 'MathematicalPi-Six', 'text': '\\x02'}, {'size': 8.5, 'font': 'Minion-Italic', 'text': ' John was sick all night long.'}, {'size': 8.64999008178711, 'font': 'Formata-Medium', 'text': 'all oak and iron bound '}, {'size': 7.0, 'font': 'Minion-Regular', 'text': 'and '}, {'size': 8.64999008178711, 'font': 'Formata-Medium', 'text': '*sound as a barrel'}, {'size': 8.5, 'font': 'Minion-Italic', 'text': ' Rur.'}, {'size': 8.5, 'font': 'Minion-Regular', 'text': 'in good health; feeling good. (*Also: '}, {'size': 8.64999008178711, 'font': 'Formata-Medium', 'text': 'as '}, {'size': 10.714475631713867, 'font': 'Minion-Black', 'text': '~'}, {'size': 8.5, 'font': 'Minion-Regular', 'text': '.) '}, {'size': 8.5, 'font': 'MathematicalPi-Six', 'text': '\\x02'}, {'size': 8.5, 'font': 'Minion-Italic', 'text': ' Tom: How'}, {'size': 8.5, 'font': 'Minion-Italic', 'text': 'are you today? Bill: All oak and iron bound, thank you. '}, {'size': 8.5, 'font': 'MathematicalPi-Six', 'text': '\\x02'}, {'size': 8.5, 'font': 'Minion-Italic', 'text': 'Jane made a wonderful recovery from her surgery, and now'}, {'size': 8.5, 'font': 'Minion-Italic', 'text': 'she’s as sound as a barrel.'}, {'size': 8.64999008178711, 'font': 'Formata-Medium', 'text': 'all of a size'}, {'size': 8.5, 'font': 'Minion-Italic', 'text': ' Rur.'}, {'size': 8.5, 'font': 'Minion-Regular', 'text': ' all of the same size. '}, {'size': 8.5, 'font': 'MathematicalPi-Six', 'text': '\\x02'}, {'size': 8.5, 'font': 'Minion-Italic', 'text': ' I tried to pick out'}, {'size': 8.5, 'font': 'Minion-Italic', 'text': 'the biggest tomato, but they were pretty much all of a size.'}, {'size': 8.5, 'font': 'MathematicalPi-Six', 'text': '\\x02'}, {'size': 8.5, 'font': 'Minion-Italic', 'text': ' The houses in that neighborhood are all of a size.'}, {'size': 8.64999008178711, 'font': 'Formata-Medium', 'text': 'all of a sudden'}, {'size': 8.5, 'font': 'Minion-Regular', 'text': ' suddenly. '}, {'size': 8.5, 'font': 'MathematicalPi-Six', 'text': '\\x02'}, {'size': 8.5, 'font': 'Minion-Italic', 'text': ' All of a sudden lightning'}, {'size': 8.5, 'font': 'Minion-Italic', 'text': 'struck the tree we were sitting under. '}, {'size': 8.5, 'font': 'MathematicalPi-Six', 'text': '\\x02'}, {'size': 8.5, 'font': 'Minion-Italic', 'text': ' I felt a sharp pain'}, {'size': 8.5, 'font': 'Minion-Italic', 'text': 'in my side all of a sudden.'}, {'size': 8.64999008178711, 'font': 'Formata-Medium', 'text': 'all or nothing 1. '}, {'size': 8.5, 'font': 'Minion-Italic', 'text': 'Lit. '}, {'size': 8.5, 'font': 'Minion-Regular', 'text': 'everything or nothing at all. '}, {'size': 8.5, 'font': 'MathematicalPi-Six', 'text': '\\x02'}, {'size': 8.5, 'font': 'Minion-Italic', 'text': ' Sally'}, {'size': 8.5, 'font': 'Minion-Italic', 'text': 'would not accept only part of the money. She wanted all or'}, {'size': 8.5, 'font': 'Minion-Italic', 'text': 'nothing. '}, {'size': 8.5, 'font': 'MathematicalPi-Six', 'text': '\\x02'}, {'size': 8.5, 'font': 'Minion-Italic', 'text': ' I can’t bargain over trifles. I will have to have'}, {'size': 8.5, 'font': 'Minion-Italic', 'text': 'all or nothing. '}, {'size': 8.64999008178711, 'font': 'Formata-Medium', 'text': '2. '}, {'size': 8.5, 'font': 'Minion-Italic', 'text': 'Fig.'}, {'size': 8.5, 'font': 'Minion-Regular', 'text': ' [the best] time to choose to do some-'}, {'size': 8.5, 'font': 'Minion-Regular', 'text': 'thing or not to do it. '}, {'size': 8.5, 'font': 'MathematicalPi-Six', 'text': '\\x02'}, {'size': 8.5, 'font': 'Minion-Italic', 'text': ' It was all or nothing. Tim had to'}, {'size': 8.5, 'font': 'Minion-Italic', 'text': 'jump off the truck or risk drowning when the truck went'}, {'size': 8.5, 'font': 'Minion-Italic', 'text': 'into the water. '}, {'size': 8.5, 'font': 'MathematicalPi-Six', 'text': '\\x02'}, {'size': 8.5, 'font': 'Minion-Italic', 'text': ' Jane stood at the door of the airplane and'}, {'size': 8.5, 'font': 'Minion-Italic', 'text': 'checked her parachute. It was all or nothing now. She had'}, {'size': 8.5, 'font': 'Minion-Italic', 'text': 'to jump or be looked upon as a coward.'}, {'size': 8.64999008178711, 'font': 'Formata-Medium', 'text': 'all over 1. '}, {'size': 7.0, 'font': 'Minion-Regular', 'text': 'and '}, {'size': 8.64999008178711, 'font': 'Formata-Medium', 'text': '(all) over with'}, {'size': 8.5, 'font': 'Minion-Regular', 'text': ' finished. '}, {'size': 8.5, 'font': 'MathematicalPi-Six', 'text': '\\x02'}, {'size': 8.5, 'font': 'Minion-Italic', 'text': ' Dinner is all'}, {'size': 8.5, 'font': 'Minion-Italic', 'text': 'over. I’m sorry you didn’t get any. '}, {'size': 8.5, 'font': 'MathematicalPi-Six', 'text': '\\x02'}, {'size': 8.5, 'font': 'Minion-Italic', 'text': ' It’s all over. He’s dead'}, {'size': 8.5, 'font': 'Minion-Italic', 'text': 'now. '}, {'size': 8.64999008178711, 'font': 'Formata-Medium', 'text': '2. '}, {'size': 8.5, 'font': 'Minion-Regular', 'text': 'everywhere. '}, {'size': 8.5, 'font': 'MathematicalPi-Six', 'text': '\\x02'}, {'size': 8.5, 'font': 'Minion-Italic', 'text': ' Oh, I just itch all over. '}, {'size': 8.5, 'font': 'MathematicalPi-Six', 'text': '\\x02'}, {'size': 8.5, 'font': 'Minion-Italic', 'text': ' She’s'}, {'size': 8.5, 'font': 'Minion-Italic', 'text': 'spreading the rumor all over.'}, {'size': 8.64999008178711, 'font': 'Formata-Medium', 'text': '(all) over again'}, {'size': 8.5, 'font': 'Minion-Regular', 'text': ' starting over completely again; going'}, {'size': 8.5, 'font': 'Minion-Regular', 'text': 'through something completely yet another time. '}, {'size': 8.5, 'font': 'MathematicalPi-Six', 'text': '\\x02'}, {'size': 8.5, 'font': 'Minion-Italic', 'text': ' Do I'}, {'size': 8.5, 'font': 'Minion-Italic', 'text': 'have to go through this all over again? '}, {'size': 8.5, 'font': 'MathematicalPi-Six', 'text': '\\x02'}, {'size': 8.5, 'font': 'Minion-Italic', 'text': ' Please start over'}, {'size': 8.5, 'font': 'Minion-Italic', 'text': 'again for those who came in late.'}]\n"
     ]
    }
   ],
   "source": [
    "print(page_text)"
   ]
  },
  {
   "cell_type": "code",
   "execution_count": null,
   "metadata": {},
   "outputs": [],
   "source": [
    "for span in refined_spans:\n",
    "    if \"; to\" in span[\"text\"]:\n",
    "    # if span[\"font\"] == \"Minion-RegularSC\":\n",
    "        print(span)"
   ]
  },
  {
   "cell_type": "code",
   "execution_count": null,
   "metadata": {},
   "outputs": [],
   "source": []
  }
 ],
 "metadata": {
  "kernelspec": {
   "display_name": "base",
   "language": "python",
   "name": "python3"
  },
  "language_info": {
   "codemirror_mode": {
    "name": "ipython",
    "version": 3
   },
   "file_extension": ".py",
   "mimetype": "text/x-python",
   "name": "python",
   "nbconvert_exporter": "python",
   "pygments_lexer": "ipython3",
   "version": "3.11.7"
  }
 },
 "nbformat": 4,
 "nbformat_minor": 2
}
